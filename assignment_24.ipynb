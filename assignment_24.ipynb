{
 "cells": [
  {
   "cell_type": "markdown",
   "id": "7c3b275d",
   "metadata": {},
   "source": [
    "What is the relationship between def statements and lambda expressions"
   ]
  },
  {
   "cell_type": "markdown",
   "id": "bb228aa3",
   "metadata": {},
   "source": [
    "def defined functions are commonly used because of their simplicity. The def defined functions do not return anything if not explicitly returned whereas the lambda function does return an object. The def functions must be declared in the namespace. The def functions can perform any python task including multiple conditions, nested conditions or loops of any level, printing, importing libraries, raising Exceptions, etc.\n",
    "\n",
    "\n",
    "The lambda functions can be used without any declaration in the namespace. The lambda functions defined above are like single-line functions. These functions do not have parenthesis like the def defined functions but instead, take parameters after the lambda keyword as shown above. There is no return keyword defined explicitly because the lambda function does return an object by default."
   ]
  },
  {
   "cell_type": "markdown",
   "id": "8cd1e48a",
   "metadata": {},
   "source": [
    "What is the benefit of lambda in python ?"
   ]
  },
  {
   "cell_type": "markdown",
   "id": "aae979d2",
   "metadata": {},
   "source": [
    "The lambda keyword in Python provides a shortcut for declaring small anonymous functions. Lambda functions behave just like regular functions declared with the def keyword. They can be used whenever function objects are required."
   ]
  },
  {
   "cell_type": "markdown",
   "id": "c7a03ccc",
   "metadata": {},
   "source": [
    "Compare and contrast map, filter, and reduce."
   ]
  },
  {
   "cell_type": "markdown",
   "id": "e47e914d",
   "metadata": {},
   "source": [
    "map()-> The map() function iterates through all items in the given iterable and executes the function we passed as an argument on each of them.\n",
    "map(func,iterables)\n"
   ]
  },
  {
   "cell_type": "code",
   "execution_count": 11,
   "id": "3b114f0d",
   "metadata": {},
   "outputs": [],
   "source": [
    "l=['Apple','Apricon','Papaya']\n",
    "y=map(lambda x: x[0]=='A',l)"
   ]
  },
  {
   "cell_type": "code",
   "execution_count": 13,
   "id": "e9550c5f",
   "metadata": {},
   "outputs": [
    {
     "name": "stdout",
     "output_type": "stream",
     "text": [
      "[True, True, False]\n"
     ]
    }
   ],
   "source": [
    "print(list(y))"
   ]
  },
  {
   "cell_type": "markdown",
   "id": "06f7babf",
   "metadata": {},
   "source": [
    "filter() forms a new list that contains only elements that satisfy a certain condition, i.e. the function we passed returns True."
   ]
  },
  {
   "cell_type": "code",
   "execution_count": 16,
   "id": "ee3ab71a",
   "metadata": {},
   "outputs": [
    {
     "data": {
      "text/plain": [
       "[2, 4, 6]"
      ]
     },
     "execution_count": 16,
     "metadata": {},
     "output_type": "execute_result"
    }
   ],
   "source": [
    "l=[2,3,4,5,6]\n",
    "list(filter(lambda x: True if x%2==0 else False,l))"
   ]
  },
  {
   "cell_type": "markdown",
   "id": "cde18558",
   "metadata": {},
   "source": [
    "reduce() works differently than map() and filter(). It does not return a new list based on the function and iterable we've passed. Instead, it returns a single value."
   ]
  },
  {
   "cell_type": "code",
   "execution_count": 22,
   "id": "6d993df5",
   "metadata": {},
   "outputs": [
    {
     "data": {
      "text/plain": [
       "20"
      ]
     },
     "execution_count": 22,
     "metadata": {},
     "output_type": "execute_result"
    }
   ],
   "source": [
    "from functools import reduce\n",
    "l=[2,3,4,5,6]\n",
    "sum=(reduce((lambda x,y:x+y),l))\n",
    "sum"
   ]
  },
  {
   "cell_type": "markdown",
   "id": "6cfc5a0a",
   "metadata": {},
   "source": [
    "What are function annotations, and how are they used?"
   ]
  },
  {
   "cell_type": "markdown",
   "id": "b64d0cb6",
   "metadata": {},
   "source": [
    "Function annotations are completely optional both for parameters and return value.\n",
    "Function annotations provide a way of associating various parts of a function with arbitrary python expressions at compile time."
   ]
  },
  {
   "cell_type": "code",
   "execution_count": 23,
   "id": "de947eea",
   "metadata": {},
   "outputs": [],
   "source": [
    "def func(x:'annotating x', y: 'annotating y', z: int) -> float:\n",
    "    print(x + y + z)"
   ]
  },
  {
   "cell_type": "code",
   "execution_count": 24,
   "id": "1adae23e",
   "metadata": {},
   "outputs": [
    {
     "name": "stdout",
     "output_type": "stream",
     "text": [
      "7\n"
     ]
    }
   ],
   "source": [
    "func(3,5,-1)"
   ]
  },
  {
   "cell_type": "code",
   "execution_count": 25,
   "id": "a6cd5b1c",
   "metadata": {},
   "outputs": [
    {
     "name": "stdout",
     "output_type": "stream",
     "text": [
      "kom-al\n"
     ]
    }
   ],
   "source": [
    "func('kom','-','al')"
   ]
  },
  {
   "cell_type": "markdown",
   "id": "e1a97d24",
   "metadata": {},
   "source": [
    "What are recursive functions, and how are they used?"
   ]
  },
  {
   "cell_type": "markdown",
   "id": "84d10a2d",
   "metadata": {},
   "source": [
    "When a function call iteself it is known as recusive func whie it should have one base condition through which it can exit from that otherwise it will call infinitely"
   ]
  },
  {
   "cell_type": "code",
   "execution_count": 34,
   "id": "d93ceb75",
   "metadata": {},
   "outputs": [],
   "source": [
    "def fun2(a):\n",
    "    if a==0 or a==1:\n",
    "        return 1\n",
    "    else:\n",
    "        return (a*fun2(a-1))#recursive func -1\n"
   ]
  },
  {
   "cell_type": "code",
   "execution_count": 36,
   "id": "21dfb74e",
   "metadata": {},
   "outputs": [
    {
     "data": {
      "text/plain": [
       "24"
      ]
     },
     "execution_count": 36,
     "metadata": {},
     "output_type": "execute_result"
    }
   ],
   "source": [
    "fun2(4)"
   ]
  },
  {
   "cell_type": "markdown",
   "id": "55413933",
   "metadata": {},
   "source": [
    "What are some general design guidelines for coding functions?"
   ]
  },
  {
   "cell_type": "markdown",
   "id": "a1f69b9d",
   "metadata": {},
   "source": [
    "1. Use 4 spaces instead of tabs.\n",
    "2. Maximum line length is 120 symbols.\n",
    "3. blank lines between classes and functions.\n",
    "4. blank line within class between class methods.\n",
    "5. No blank line following a def line.\n",
    "6. No whitespace inside parentheses, brackets, or braces."
   ]
  },
  {
   "cell_type": "markdown",
   "id": "75bb8ba7",
   "metadata": {},
   "source": [
    "Name three or more ways that functions can communicate results to a caller."
   ]
  },
  {
   "cell_type": "markdown",
   "id": "b10ca3bd",
   "metadata": {},
   "source": [
    "There are three types of functions in Python:\n",
    "\n",
    "1. Built-in functions, such as help() to ask for help, min() to get the minimum value, print() to print an object to the terminal,… You can find an overview with more of these functions here.\n",
    "2. User-Defined Functions (UDFs), which are functions that users create to help them out; And\n",
    "3. Anonymous functions, which are also called lambda functions because they are not declared with the standard def keyword."
   ]
  },
  {
   "cell_type": "code",
   "execution_count": null,
   "id": "6e6337df",
   "metadata": {},
   "outputs": [],
   "source": []
  }
 ],
 "metadata": {
  "kernelspec": {
   "display_name": "Python 3 (ipykernel)",
   "language": "python",
   "name": "python3"
  },
  "language_info": {
   "codemirror_mode": {
    "name": "ipython",
    "version": 3
   },
   "file_extension": ".py",
   "mimetype": "text/x-python",
   "name": "python",
   "nbconvert_exporter": "python",
   "pygments_lexer": "ipython3",
   "version": "3.9.12"
  }
 },
 "nbformat": 4,
 "nbformat_minor": 5
}
