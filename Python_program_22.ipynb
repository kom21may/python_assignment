{
 "cells": [
  {
   "cell_type": "markdown",
   "id": "0a262eea-dca9-4982-93ff-f0cc1bb1e244",
   "metadata": {},
   "source": [
    "    Question1\n",
    "    Create a function that takes three parameters where:\n",
    "     x is the start of the range (inclusive).\n",
    "     y is the end of the range (inclusive).\n",
    "     n is the divisor to be checked against.\n",
    "    Return an ordered list with numbers in the range that are divisible by the third parameter n.\n",
    "    Return an empty list if there are no numbers that are divisible by n.\n",
    "    Examples\n",
    "    list_operation(1, 10, 3) ➞ [3, 6, 9]\n",
    "    list_operation(7, 9, 2) ➞ [8]\n",
    "    list_operation(15, 20, 7) ➞ []"
   ]
  },
  {
   "cell_type": "code",
   "execution_count": 8,
   "id": "0c832cdb-4856-4779-b0b9-dfa75f44084a",
   "metadata": {},
   "outputs": [],
   "source": [
    "def list_operation(x,y,n):\n",
    "    l=[]\n",
    "    for i in range(x,y+1):\n",
    "        if i%n==0:\n",
    "            l.append(i)\n",
    "    return l"
   ]
  },
  {
   "cell_type": "code",
   "execution_count": 9,
   "id": "af0b6674-79d9-4b17-9724-09ee7f1349f8",
   "metadata": {},
   "outputs": [
    {
     "data": {
      "text/plain": [
       "[3, 6, 9]"
      ]
     },
     "execution_count": 9,
     "metadata": {},
     "output_type": "execute_result"
    }
   ],
   "source": [
    "list_operation(1,10,3)"
   ]
  },
  {
   "cell_type": "code",
   "execution_count": null,
   "id": "c649cc3d-650b-44d2-b91c-0207e3a808ac",
   "metadata": {},
   "outputs": [],
   "source": []
  },
  {
   "cell_type": "markdown",
   "id": "d7937fdc-9fa1-484f-8568-bcdb5ea3f87c",
   "metadata": {},
   "source": [
    "    Question2\n",
    "    Create a function that takes in two lists and returns True if the second list follows the first list\n",
    "    by one element, and False otherwise. In other words, determine if the second list is the first\n",
    "    list shifted to the right by 1.\n",
    "    Examples\n",
    "    simon_says([1, 2], [5, 1]) ➞ True\n",
    "    simon_says([1, 2], [5, 5]) ➞ False\n",
    "    simon_says([1, 2, 3, 4, 5], [0, 1, 2, 3, 4]) ➞ True\n",
    "    simon_says([1, 2, 3, 4, 5], [5, 5, 1, 2, 3]) ➞ False\n",
    "    Notes\n",
    "     Both input lists will be of the same length, and will have a minimum length of 2.\n",
    "     The values of the 0-indexed element in the second list and the n-1th indexed element\n",
    "    in the first list do not matter."
   ]
  },
  {
   "cell_type": "code",
   "execution_count": 33,
   "id": "c21ef13d-a5a8-423f-808c-5f0aade8b199",
   "metadata": {},
   "outputs": [],
   "source": [
    "def simon_says(l1,l2):\n",
    "    s=[]\n",
    "    m=[]\n",
    "    s.append(l1[:-1])\n",
    "    m.append(l2[1:])\n",
    "    if(s==m):\n",
    "        return True\n",
    "    else:\n",
    "        return False\n",
    "    "
   ]
  },
  {
   "cell_type": "code",
   "execution_count": 34,
   "id": "6d838101-5531-4cf1-9dfd-253fe35d1b00",
   "metadata": {},
   "outputs": [
    {
     "data": {
      "text/plain": [
       "True"
      ]
     },
     "execution_count": 34,
     "metadata": {},
     "output_type": "execute_result"
    }
   ],
   "source": [
    "simon_says([1, 2, 3, 4, 5], [0, 1, 2, 3, 4])"
   ]
  },
  {
   "cell_type": "code",
   "execution_count": 35,
   "id": "203230af-f2ed-4f94-b688-617dcb147ffa",
   "metadata": {},
   "outputs": [
    {
     "data": {
      "text/plain": [
       "False"
      ]
     },
     "execution_count": 35,
     "metadata": {},
     "output_type": "execute_result"
    }
   ],
   "source": [
    "simon_says([1, 2, 3, 4, 5], [5, 5, 1, 2, 3])"
   ]
  },
  {
   "cell_type": "markdown",
   "id": "ca3a88cf-4308-410b-8788-b1597a64589b",
   "metadata": {},
   "source": [
    "A group of friends have decided to start a secret society. The name will be the first letter of\n",
    "each of their names, sorted in alphabetical order.\n",
    "Create a function that takes in a list of names and returns the name of the secret society.\n",
    "\n",
    "Examples\n",
    "society_name([&quot;Adam&quot;, &quot;Sarah&quot;, &quot;Malcolm&quot;]) ➞ &quot;AMS&quot;\n",
    "society_name([&quot;Harry&quot;, &quot;Newt&quot;, &quot;Luna&quot;, &quot;Cho&quot;]) ➞ &quot;CHLN&quot;\n",
    "society_name([&quot;Phoebe&quot;, &quot;Chandler&quot;, &quot;Rachel&quot;, &quot;Ross&quot;, &quot;Monica&quot;, &quot;Joey&quot;])"
   ]
  },
  {
   "cell_type": "code",
   "execution_count": 27,
   "id": "ec2a2cfb-4191-448e-9eba-4f09b0aaf8c1",
   "metadata": {},
   "outputs": [],
   "source": [
    "def society_name(name_list):\n",
    "    sn = ''\n",
    "    for name in name_list:\n",
    "        sn+=name[0]\n",
    "    sn = sorted(sn)\n",
    "    return ''.join(sn)\n",
    "    "
   ]
  },
  {
   "cell_type": "code",
   "execution_count": 28,
   "id": "fd0a71cf-1024-4dfb-8edd-994c45cc5581",
   "metadata": {},
   "outputs": [
    {
     "data": {
      "text/plain": [
       "'AMS'"
      ]
     },
     "execution_count": 28,
     "metadata": {},
     "output_type": "execute_result"
    }
   ],
   "source": [
    "society_name([\"Adam\", \"Sarah\", \"Malcolm\"])"
   ]
  },
  {
   "cell_type": "markdown",
   "id": "43a9894a-f7d4-4912-8ad0-c61ef229c6c5",
   "metadata": {},
   "source": [
    "Question4\n",
    "An isogram is a word that has no duplicate letters. Create a function that takes a string and\n",
    "returns either True or False depending on whether or not it&#39;s an &quot;isogram&quot;.\n",
    "Examples\n",
    "is_isogram(&quot;Algorism&quot;) ➞ True\n",
    "is_isogram(&quot;PasSword&quot;) ➞ False\n",
    " Not case sensitive.\n",
    "is_isogram(&quot;Consecutive&quot;) ➞ False\n",
    "Notes\n",
    " Ignore letter case (should not be case sensitive).\n",
    " All test cases contain valid one word strings."
   ]
  },
  {
   "cell_type": "code",
   "execution_count": 24,
   "id": "0d96bc6d-76e5-4a01-ae25-edc7054e2aa9",
   "metadata": {},
   "outputs": [],
   "source": [
    "def isogr(s):\n",
    "    s1=s.lower()\n",
    "    s1=sorted(s1)\n",
    "    s2=''.join(list(set(s1)))\n",
    "    s2=sorted(s2)\n",
    "    if(s2==s1):\n",
    "        return True\n",
    "    else:\n",
    "        return False"
   ]
  },
  {
   "cell_type": "code",
   "execution_count": 25,
   "id": "b18f2f88-9f15-4b54-bd48-8fe927871741",
   "metadata": {},
   "outputs": [
    {
     "data": {
      "text/plain": [
       "True"
      ]
     },
     "execution_count": 25,
     "metadata": {},
     "output_type": "execute_result"
    }
   ],
   "source": [
    "isogr('Algorism')"
   ]
  },
  {
   "cell_type": "markdown",
   "id": "48b288d9-c523-4d35-89f1-30f83ad4d36e",
   "metadata": {},
   "source": [
    "Question5\n",
    "Create a function that takes a string and returns True or False, depending on whether the\n",
    "characters are in order or not.\n",
    "Examples\n",
    "is_in_order(&quot;abc&quot;) ➞ True\n",
    "is_in_order(&quot;edabit&quot;) ➞ False\n",
    "is_in_order(&quot;123&quot;) ➞ True\n",
    "is_in_order(&quot;xyzz&quot;) ➞ True\n",
    "Notes\n",
    "You don&#39;t have to handle empty strings."
   ]
  },
  {
   "cell_type": "code",
   "execution_count": 10,
   "id": "41068836-67ae-42c6-81a8-3758478a0ebc",
   "metadata": {},
   "outputs": [],
   "source": [
    "def is_in_order(s):\n",
    "    x=sorted(s)\n",
    "    y=''.join(x)\n",
    "    if(y==s):\n",
    "        return True\n",
    "    else:\n",
    "        return False\n",
    "    "
   ]
  },
  {
   "cell_type": "code",
   "execution_count": 11,
   "id": "a11e2732-e367-46b5-91e8-654113510995",
   "metadata": {},
   "outputs": [
    {
     "data": {
      "text/plain": [
       "False"
      ]
     },
     "execution_count": 11,
     "metadata": {},
     "output_type": "execute_result"
    }
   ],
   "source": [
    "is_in_order('edabit')"
   ]
  },
  {
   "cell_type": "code",
   "execution_count": 12,
   "id": "e0d89f55-233e-4929-b17f-89d10ef4b857",
   "metadata": {},
   "outputs": [
    {
     "data": {
      "text/plain": [
       "True"
      ]
     },
     "execution_count": 12,
     "metadata": {},
     "output_type": "execute_result"
    }
   ],
   "source": [
    "is_in_order('abc')"
   ]
  },
  {
   "cell_type": "code",
   "execution_count": null,
   "id": "5154b432-a34d-436d-8e6d-6e2e6c04b82e",
   "metadata": {},
   "outputs": [],
   "source": []
  }
 ],
 "metadata": {
  "kernelspec": {
   "display_name": "Python 3 (ipykernel)",
   "language": "python",
   "name": "python3"
  },
  "language_info": {
   "codemirror_mode": {
    "name": "ipython",
    "version": 3
   },
   "file_extension": ".py",
   "mimetype": "text/x-python",
   "name": "python",
   "nbconvert_exporter": "python",
   "pygments_lexer": "ipython3",
   "version": "3.10.0"
  }
 },
 "nbformat": 4,
 "nbformat_minor": 5
}
