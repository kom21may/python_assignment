{
 "cells": [
  {
   "cell_type": "markdown",
   "id": "0d81d15c",
   "metadata": {},
   "source": [
    "Write a Python Program to Find the Factorial of a Number?"
   ]
  },
  {
   "cell_type": "code",
   "execution_count": 1,
   "id": "806e3bd2",
   "metadata": {},
   "outputs": [
    {
     "data": {
      "text/plain": [
       "120"
      ]
     },
     "execution_count": 1,
     "metadata": {},
     "output_type": "execute_result"
    }
   ],
   "source": [
    "def factorial(n):\n",
    "    if n==0 or n==1:\n",
    "        return 1\n",
    "    else:\n",
    "        return n*factorial(n-1)\n",
    "factorial(5)"
   ]
  },
  {
   "cell_type": "code",
   "execution_count": 2,
   "id": "5a0fab5f",
   "metadata": {},
   "outputs": [
    {
     "data": {
      "text/plain": [
       "40320"
      ]
     },
     "execution_count": 2,
     "metadata": {},
     "output_type": "execute_result"
    }
   ],
   "source": [
    "factorial(8)"
   ]
  },
  {
   "cell_type": "markdown",
   "id": "06018a2f",
   "metadata": {},
   "source": [
    "Write a Python Program to Display the multiplication Table?"
   ]
  },
  {
   "cell_type": "code",
   "execution_count": 7,
   "id": "d91d76b6",
   "metadata": {},
   "outputs": [],
   "source": [
    "def mult(n):\n",
    "    for i in range(1,n-1):\n",
    "        \n",
    "        print(f'{n} * {i} = {n*i}')"
   ]
  },
  {
   "cell_type": "code",
   "execution_count": 8,
   "id": "e827b5e3",
   "metadata": {},
   "outputs": [
    {
     "name": "stdout",
     "output_type": "stream",
     "text": [
      "12 * 1 = 12\n",
      "12 * 2 = 24\n",
      "12 * 3 = 36\n",
      "12 * 4 = 48\n",
      "12 * 5 = 60\n",
      "12 * 6 = 72\n",
      "12 * 7 = 84\n",
      "12 * 8 = 96\n",
      "12 * 9 = 108\n",
      "12 * 10 = 120\n"
     ]
    }
   ],
   "source": [
    "mult(12)"
   ]
  },
  {
   "cell_type": "markdown",
   "id": "1420aea8",
   "metadata": {},
   "source": [
    "Write a Python Program to Print the Fibonacci sequence?"
   ]
  },
  {
   "cell_type": "code",
   "execution_count": 23,
   "id": "10a3ac7f",
   "metadata": {},
   "outputs": [],
   "source": [
    "def fib(n):\n",
    "    a=1\n",
    "    b=1\n",
    "    count=0\n",
    "    if n<2:\n",
    "        print('invalid number')\n",
    "    else:\n",
    "        while count<n:\n",
    "            c=a+b\n",
    "            print(f'{b}')\n",
    "            a=b\n",
    "            b=c\n",
    "            count+=1\n",
    "        \n",
    "            "
   ]
  },
  {
   "cell_type": "code",
   "execution_count": 24,
   "id": "c6958489",
   "metadata": {},
   "outputs": [
    {
     "name": "stdout",
     "output_type": "stream",
     "text": [
      "1\n",
      "2\n",
      "3\n",
      "5\n",
      "8\n",
      "13\n",
      "21\n"
     ]
    }
   ],
   "source": [
    "fib(7)"
   ]
  },
  {
   "cell_type": "code",
   "execution_count": 25,
   "id": "4c87b00a",
   "metadata": {},
   "outputs": [],
   "source": [
    "#Write a Python Program to Check Armstrong Number?"
   ]
  },
  {
   "cell_type": "code",
   "execution_count": 52,
   "id": "e52acf5c",
   "metadata": {},
   "outputs": [],
   "source": [
    "def armstrong(n):\n",
    "    s=n\n",
    "    sum=0\n",
    "    while s>0:\n",
    "        r=s%10\n",
    "        sum=sum+r**3\n",
    "        s=s//10\n",
    "    if(n==sum):\n",
    "        print(f'Yes armstrong')\n",
    "    else:\n",
    "        print(f'No not a armstrong')\n",
    "        \n",
    "        "
   ]
  },
  {
   "cell_type": "code",
   "execution_count": 53,
   "id": "c1ea25a7",
   "metadata": {},
   "outputs": [
    {
     "name": "stdout",
     "output_type": "stream",
     "text": [
      "No not a armstrong\n"
     ]
    }
   ],
   "source": [
    "armstrong(345)"
   ]
  },
  {
   "cell_type": "code",
   "execution_count": 54,
   "id": "166a9797",
   "metadata": {},
   "outputs": [
    {
     "name": "stdout",
     "output_type": "stream",
     "text": [
      "Yes armstrong\n"
     ]
    }
   ],
   "source": [
    "armstrong(153)"
   ]
  },
  {
   "cell_type": "code",
   "execution_count": 55,
   "id": "6326974f",
   "metadata": {},
   "outputs": [
    {
     "name": "stdout",
     "output_type": "stream",
     "text": [
      "Yes armstrong\n"
     ]
    }
   ],
   "source": [
    "armstrong(407)"
   ]
  },
  {
   "cell_type": "code",
   "execution_count": 56,
   "id": "11c1dbd4",
   "metadata": {},
   "outputs": [],
   "source": [
    "#Write a Python Program to Find Armstrong Number in an Interval?"
   ]
  },
  {
   "cell_type": "code",
   "execution_count": 12,
   "id": "64f6218a",
   "metadata": {},
   "outputs": [],
   "source": [
    "def armstrong2(a,b):\n",
    "    for i in range(a,b):\n",
    "        sum=0\n",
    "        order=len(str(i))\n",
    "        temp=i\n",
    "        while(temp>0):\n",
    "            r=temp%10\n",
    "            sum=sum+r**order\n",
    "            temp=temp//10\n",
    "        if(i==sum):\n",
    "            print(f'{i}')\n",
    "        "
   ]
  },
  {
   "cell_type": "code",
   "execution_count": 13,
   "id": "01820863",
   "metadata": {},
   "outputs": [
    {
     "name": "stdout",
     "output_type": "stream",
     "text": [
      "370\n",
      "371\n",
      "407\n"
     ]
    }
   ],
   "source": [
    "armstrong2(234,900)"
   ]
  },
  {
   "cell_type": "code",
   "execution_count": 14,
   "id": "1e522fec",
   "metadata": {},
   "outputs": [],
   "source": [
    "#Write a Python Program to Find the Sum of Natural Numbers?"
   ]
  },
  {
   "cell_type": "code",
   "execution_count": 15,
   "id": "b9af3eb0",
   "metadata": {},
   "outputs": [],
   "source": [
    "def sumnat(n):\n",
    "    sum=0\n",
    "    for i in range(0,n+1):\n",
    "        sum+=i\n",
    "    return sum"
   ]
  },
  {
   "cell_type": "code",
   "execution_count": 17,
   "id": "0577fb3c",
   "metadata": {},
   "outputs": [
    {
     "data": {
      "text/plain": [
       "21"
      ]
     },
     "execution_count": 17,
     "metadata": {},
     "output_type": "execute_result"
    }
   ],
   "source": [
    "sumnat(6)"
   ]
  },
  {
   "cell_type": "code",
   "execution_count": null,
   "id": "29387917",
   "metadata": {},
   "outputs": [],
   "source": []
  }
 ],
 "metadata": {
  "kernelspec": {
   "display_name": "Python 3 (ipykernel)",
   "language": "python",
   "name": "python3"
  },
  "language_info": {
   "codemirror_mode": {
    "name": "ipython",
    "version": 3
   },
   "file_extension": ".py",
   "mimetype": "text/x-python",
   "name": "python",
   "nbconvert_exporter": "python",
   "pygments_lexer": "ipython3",
   "version": "3.9.12"
  }
 },
 "nbformat": 4,
 "nbformat_minor": 5
}
