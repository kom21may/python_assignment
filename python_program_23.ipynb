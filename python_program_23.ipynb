{
 "cells": [
  {
   "cell_type": "markdown",
   "id": "24ba914f-05b0-4e18-a099-e4fb2a7d7319",
   "metadata": {},
   "source": [
    "Question 1\n",
    "Create a function that takes a number as an argument and returns True or False depending\n",
    "on whether the number is symmetrical or not. A number is symmetrical when it is the same as\n",
    "its reverse.\n",
    "Examples\n",
    "is_symmetrical(7227) ➞ True\n",
    "is_symmetrical(12567) ➞ False\n",
    "is_symmetrical(44444444) ➞ True\n",
    "is_symmetrical(9939) ➞ False\n",
    "is_symmetrical(1112111) ➞ True"
   ]
  },
  {
   "cell_type": "code",
   "execution_count": 11,
   "id": "475b7b9f-f17d-4b69-9f32-7d337b9412bd",
   "metadata": {},
   "outputs": [],
   "source": [
    "def symm(s):\n",
    "    s1=list(str(s))\n",
    "    print(s1)\n",
    "    s2=s1[::-1]\n",
    "    if(s2==s1):\n",
    "        return True\n",
    "    else:\n",
    "        return False"
   ]
  },
  {
   "cell_type": "code",
   "execution_count": 12,
   "id": "fbf7b06f-845c-4381-9f60-7fa49522d9c0",
   "metadata": {},
   "outputs": [
    {
     "name": "stdout",
     "output_type": "stream",
     "text": [
      "['7', '2', '7', '7']\n"
     ]
    },
    {
     "data": {
      "text/plain": [
       "False"
      ]
     },
     "execution_count": 12,
     "metadata": {},
     "output_type": "execute_result"
    }
   ],
   "source": [
    "symm(7277)"
   ]
  },
  {
   "cell_type": "code",
   "execution_count": 13,
   "id": "97b48c2e-0375-4233-af18-ca3402c6a4dc",
   "metadata": {},
   "outputs": [
    {
     "name": "stdout",
     "output_type": "stream",
     "text": [
      "['7', '2', '2', '7']\n"
     ]
    },
    {
     "data": {
      "text/plain": [
       "True"
      ]
     },
     "execution_count": 13,
     "metadata": {},
     "output_type": "execute_result"
    }
   ],
   "source": [
    "symm(7227)"
   ]
  },
  {
   "cell_type": "markdown",
   "id": "9be7d20c-30fa-4e7f-8ca4-0a5fdf181503",
   "metadata": {},
   "source": [
    "Question 2\n",
    "Given a string of numbers separated by a comma and space, return the product of the\n",
    "numbers.\n",
    "Examples\n",
    "multiply_nums(&quot;2, 3&quot;) ➞ 6\n",
    "multiply_nums(&quot;1, 2, 3, 4&quot;) ➞ 24\n",
    "multiply_nums(&quot;54, 75, 453, 0&quot;) ➞ 0\n",
    "multiply_nums(&quot;10, -2&quot;) ➞ -20"
   ]
  },
  {
   "cell_type": "code",
   "execution_count": 17,
   "id": "9ee15926-0486-4c64-bd6e-7a19eab24803",
   "metadata": {},
   "outputs": [],
   "source": [
    "def prod(st):\n",
    "    l=st.split(',')\n",
    "    ans=1\n",
    "    for i in l:\n",
    "        ans*=int(i)\n",
    "    return ans\n",
    "        "
   ]
  },
  {
   "cell_type": "code",
   "execution_count": 18,
   "id": "8cb8f7ae-2969-4e1c-8be2-9bb53e58e40f",
   "metadata": {},
   "outputs": [
    {
     "data": {
      "text/plain": [
       "6"
      ]
     },
     "execution_count": 18,
     "metadata": {},
     "output_type": "execute_result"
    }
   ],
   "source": [
    "prod(\"2,3\")"
   ]
  },
  {
   "cell_type": "markdown",
   "id": "7cb1b716-3dd8-4c99-aa99-83d5a06d1ef4",
   "metadata": {},
   "source": [
    "Question 3\n",
    "Create a function that squares every digit of a number.\n",
    "Examples\n",
    "square_digits(9119) ➞ 811181\n",
    "square_digits(2483) ➞ 416649\n",
    "square_digits(3212) ➞ 9414\n",
    "Notes\n",
    "The function receives an integer and must return an integer."
   ]
  },
  {
   "cell_type": "code",
   "execution_count": 29,
   "id": "20d77de9-55c8-422f-b9bd-1694fd1a5764",
   "metadata": {},
   "outputs": [],
   "source": [
    "def sq(l):\n",
    "    l_new=list(str(l))\n",
    "    s_new=[]\n",
    "    for i in l_new:\n",
    "        s_new.append(str(int(i)*int(i)))\n",
    "    return int(''.join(s_new))"
   ]
  },
  {
   "cell_type": "code",
   "execution_count": 30,
   "id": "267632f1-3695-4e0c-baf1-38b2d8c85587",
   "metadata": {},
   "outputs": [
    {
     "data": {
      "text/plain": [
       "811181"
      ]
     },
     "execution_count": 30,
     "metadata": {},
     "output_type": "execute_result"
    }
   ],
   "source": [
    "sq(9119)"
   ]
  },
  {
   "cell_type": "code",
   "execution_count": null,
   "id": "ac7d74e7-cfc9-447e-b293-88c04927d967",
   "metadata": {},
   "outputs": [],
   "source": []
  },
  {
   "cell_type": "markdown",
   "id": "5eb539ac-b96a-4f63-a258-f502fd37eb64",
   "metadata": {},
   "source": [
    "Question 4\n",
    "Create a function that sorts a list and removes all duplicate items from it.\n",
    "Examples\n",
    "setify([1, 3, 3, 5, 5]) ➞ [1, 3, 5]\n",
    "setify([4, 4, 4, 4]) ➞ [4]\n",
    "setify([5, 7, 8, 9, 10, 15]) ➞ [5, 7, 8, 9, 10, 15]\n",
    "setify([3, 3, 3, 2, 1]) ➞ [1, 2, 3]"
   ]
  },
  {
   "cell_type": "code",
   "execution_count": 31,
   "id": "aabb578b-93f5-48df-81b6-2c63be0a6916",
   "metadata": {},
   "outputs": [],
   "source": [
    "def sort_dupl(l):\n",
    "    return list(set(sorted(l)))"
   ]
  },
  {
   "cell_type": "code",
   "execution_count": 32,
   "id": "ddc7641b-c43a-4668-8606-48306b8ee5d6",
   "metadata": {},
   "outputs": [
    {
     "data": {
      "text/plain": [
       "[2, 3, 4]"
      ]
     },
     "execution_count": 32,
     "metadata": {},
     "output_type": "execute_result"
    }
   ],
   "source": [
    "sort_dupl([2,3,4,2])"
   ]
  },
  {
   "cell_type": "code",
   "execution_count": null,
   "id": "e0da20e4-a219-4166-a3e2-16f168322d37",
   "metadata": {},
   "outputs": [],
   "source": []
  },
  {
   "cell_type": "markdown",
   "id": "6afbd862-871f-434e-bded-13df4a8c2dc3",
   "metadata": {},
   "source": [
    "Question 5\n",
    "Create a function that returns the mean of all digits.\n",
    "Examples\n",
    "mean(42) ➞ 3\n",
    "mean(12345) ➞ 3\n",
    "mean(666) ➞ 6\n",
    "Notes\n",
    " The mean of all digits is the sum of digits / how many digits there are (e.g. mean of digits in\n",
    "512 is (5+1+2)/3(number of digits) = 8/3=2).\n",
    " The mean will always be an integer."
   ]
  },
  {
   "cell_type": "code",
   "execution_count": 37,
   "id": "86f14a8d-fa1a-4a33-89d2-c6c5f43d463d",
   "metadata": {},
   "outputs": [],
   "source": [
    "def mean_l(l):\n",
    "    l=list(str(l))\n",
    "    s=0\n",
    "    for i in l:\n",
    "        s+=int(i)\n",
    "    le=len(l)\n",
    "    return int(s/le)"
   ]
  },
  {
   "cell_type": "code",
   "execution_count": 38,
   "id": "500a15c7-f31d-47e4-80f8-e581eed68261",
   "metadata": {},
   "outputs": [
    {
     "data": {
      "text/plain": [
       "3"
      ]
     },
     "execution_count": 38,
     "metadata": {},
     "output_type": "execute_result"
    }
   ],
   "source": [
    "mean_l(12345)"
   ]
  },
  {
   "cell_type": "code",
   "execution_count": null,
   "id": "a667ca19-944b-46dc-8600-88388911d27e",
   "metadata": {},
   "outputs": [],
   "source": []
  }
 ],
 "metadata": {
  "kernelspec": {
   "display_name": "Python 3 (ipykernel)",
   "language": "python",
   "name": "python3"
  },
  "language_info": {
   "codemirror_mode": {
    "name": "ipython",
    "version": 3
   },
   "file_extension": ".py",
   "mimetype": "text/x-python",
   "name": "python",
   "nbconvert_exporter": "python",
   "pygments_lexer": "ipython3",
   "version": "3.10.0"
  }
 },
 "nbformat": 4,
 "nbformat_minor": 5
}
