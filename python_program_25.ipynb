{
 "cells": [
  {
   "cell_type": "markdown",
   "id": "00569988-490b-4fee-8a68-6856128e3bac",
   "metadata": {},
   "source": [
    "Question1\n",
    "Create a function that takes three integer arguments (a, b, c) and returns the amount of\n",
    "integers which are of equal value.\n",
    "Examples\n",
    "equal(3, 4, 3) ➞ 2\n",
    "equal(1, 1, 1) ➞ 3\n",
    "equal(3, 4, 1) ➞ 0"
   ]
  },
  {
   "cell_type": "code",
   "execution_count": 6,
   "id": "7c229f57-8c37-4c1c-ad8c-24388a55c481",
   "metadata": {},
   "outputs": [],
   "source": [
    "from collections import Counter\n",
    "def count_int(l):\n",
    "    x=Counter(l)\n",
    "    l=[]\n",
    "    for i in x:\n",
    "        if x[i]>1:\n",
    "            return x[i]\n",
    "        else:\n",
    "            return 0\n",
    "            \n",
    "    "
   ]
  },
  {
   "cell_type": "code",
   "execution_count": 7,
   "id": "e0d11254-6a73-4bc6-af71-b5152089668a",
   "metadata": {},
   "outputs": [
    {
     "data": {
      "text/plain": [
       "2"
      ]
     },
     "execution_count": 7,
     "metadata": {},
     "output_type": "execute_result"
    }
   ],
   "source": [
    "count_int([3,4,3])"
   ]
  },
  {
   "cell_type": "code",
   "execution_count": 8,
   "id": "70e9ed35-ecd2-460f-b438-ab69439fae03",
   "metadata": {},
   "outputs": [
    {
     "data": {
      "text/plain": [
       "0"
      ]
     },
     "execution_count": 8,
     "metadata": {},
     "output_type": "execute_result"
    }
   ],
   "source": [
    "count_int([7,2,9,4,1])"
   ]
  },
  {
   "cell_type": "markdown",
   "id": "2da828ad-ff86-4fcc-adff-3796f10db46e",
   "metadata": {},
   "source": [
    "Question2\n",
    "Write a function that converts a dictionary into a list of keys-values tuples.\n",
    "Examples\n",
    "dict_to_list({\n",
    "&quot;D&quot;: 1,\n",
    "&quot;B&quot;: 2,\n",
    "&quot;C&quot;: 3\n",
    "}) ➞ [(&quot;B&quot;, 2), (&quot;C&quot;, 3), (&quot;D&quot;, 1)]\n",
    "dict_to_list({\n",
    "&quot;likes&quot;: 2,\n",
    "&quot;dislikes&quot;: 3,\n",
    "&quot;followers&quot;: 10\n",
    "}) ➞ [(&quot;dislikes&quot;, 3), (&quot;followers&quot;, 10), (&quot;likes&quot;, 2)]\n",
    "Notes"
   ]
  },
  {
   "cell_type": "code",
   "execution_count": 13,
   "id": "915f837f-9d05-4705-ba04-c7bd1971d833",
   "metadata": {},
   "outputs": [],
   "source": [
    "def dic_list(d):\n",
    "    return list(d.items())"
   ]
  },
  {
   "cell_type": "markdown",
   "id": "c0e99722-3139-4d79-a78a-87266f1cb659",
   "metadata": {},
   "source": [
    "dict_to_list({\n",
    "&quot;D&quot;: 1,\n",
    "&quot;B&quot;: 2,\n",
    "&quot;C&quot;: 3\n",
    "})"
   ]
  },
  {
   "cell_type": "code",
   "execution_count": 15,
   "id": "b62490d6-9716-4846-96a5-d1d6416f6ad6",
   "metadata": {},
   "outputs": [
    {
     "data": {
      "text/plain": [
       "[('D', 1), ('B', 2), ('C', 3)]"
      ]
     },
     "execution_count": 15,
     "metadata": {},
     "output_type": "execute_result"
    }
   ],
   "source": [
    "dic_list({ \"D\": 1, \"B\": 2, \"C\": 3 })"
   ]
  },
  {
   "cell_type": "code",
   "execution_count": null,
   "id": "82a18fa5-fba9-4249-a062-9b0d7c7926b6",
   "metadata": {},
   "outputs": [],
   "source": []
  },
  {
   "cell_type": "markdown",
   "id": "f6af88f9-5421-4a16-bb8a-0407fe1bc3b6",
   "metadata": {},
   "source": [
    "Question3\n",
    "Write a function that creates a dictionary with each (key, value) pair being the (lower case,\n",
    "upper case) versions of a letter, respectively.\n",
    "Examples\n",
    "mapping([&quot;p&quot;, &quot;s&quot;]) ➞ { &quot;p&quot;: &quot;P&quot;, &quot;s&quot;: &quot;S&quot; }\n",
    "\n",
    "mapping([&quot;a&quot;, &quot;b&quot;, &quot;c&quot;]) ➞ { &quot;a&quot;: &quot;A&quot;, &quot;b&quot;: &quot;B&quot;, &quot;c&quot;: &quot;C&quot; }\n",
    "mapping([&quot;a&quot;, &quot;v&quot;, &quot;y&quot;, &quot;z&quot;]) ➞ { &quot;a&quot;: &quot;A&quot;, &quot;v&quot;: &quot;V&quot;, &quot;y&quot;: &quot;Y&quot;, &quot;z&quot;: &quot;Z&quot; }\n",
    "Notes"
   ]
  },
  {
   "cell_type": "code",
   "execution_count": 16,
   "id": "a090d8a6-f546-440b-a854-7b7058b5fb07",
   "metadata": {},
   "outputs": [],
   "source": [
    "def mapp(l):\n",
    "    val=[]\n",
    "    for i in l:\n",
    "        val.append(i.upper())\n",
    "    return dict(zip(l,val))\n",
    "        "
   ]
  },
  {
   "cell_type": "code",
   "execution_count": 17,
   "id": "e750fc1a-68c9-4932-89ef-c45222460cbb",
   "metadata": {},
   "outputs": [
    {
     "data": {
      "text/plain": [
       "{'a': 'A', 'b': 'B', 'c': 'C'}"
      ]
     },
     "execution_count": 17,
     "metadata": {},
     "output_type": "execute_result"
    }
   ],
   "source": [
    "mapp([\"a\", \"b\", \"c\"])"
   ]
  },
  {
   "cell_type": "code",
   "execution_count": null,
   "id": "dfc4e99d-aac5-4138-9e0d-17823ce245d3",
   "metadata": {},
   "outputs": [],
   "source": []
  },
  {
   "cell_type": "markdown",
   "id": "54ab7ae1-3d84-4222-b2bd-5db61c889a7e",
   "metadata": {},
   "source": [
    "Question4\n",
    "Write a function, that replaces all vowels in a string with a specified vowel.\n",
    "Examples\n",
    "vow_replace(&quot;apples and bananas&quot;, &quot;u&quot;) ➞ &quot;upplus und bununus&quot;\n",
    "vow_replace(&quot;cheese casserole&quot;, &quot;o&quot;) ➞ &quot;chooso cossorolo&quot;\n",
    "vow_replace(&quot;stuffed jalapeno poppers&quot;, &quot;e&quot;) ➞ &quot;steffed jelepene peppers&quot;\n",
    "Notes"
   ]
  },
  {
   "cell_type": "code",
   "execution_count": 20,
   "id": "4de1b1ba-5f05-491d-b076-dc56076d92e5",
   "metadata": {},
   "outputs": [],
   "source": [
    "def rep_vow(s,r):\n",
    "    vow=['a','e','i','o','u']\n",
    "    l_new=[]\n",
    "    for i in s:\n",
    "        if i in vow:\n",
    "            l_new.append(r)\n",
    "        else:\n",
    "            l_new.append(i)\n",
    "    return ''.join(l_new)\n",
    "            "
   ]
  },
  {
   "cell_type": "code",
   "execution_count": 21,
   "id": "61b62399-c801-4098-82c0-08bf40f2a797",
   "metadata": {},
   "outputs": [
    {
     "data": {
      "text/plain": [
       "'upplus und bununus'"
      ]
     },
     "execution_count": 21,
     "metadata": {},
     "output_type": "execute_result"
    }
   ],
   "source": [
    "rep_vow(\"apples and bananas\", \"u\")"
   ]
  },
  {
   "cell_type": "code",
   "execution_count": null,
   "id": "277eca7a-a753-4945-b4d4-cd769d31c886",
   "metadata": {},
   "outputs": [],
   "source": []
  },
  {
   "cell_type": "markdown",
   "id": "5686ae88-cdfa-4534-b636-c81e0dad0d79",
   "metadata": {},
   "source": [
    "Question5\n",
    "Create a function that takes a string as input and capitalizes a letter if its ASCII code is even\n",
    "and returns its lower case version if its ASCII code is odd.\n",
    "Examples\n",
    "ascii_capitalize(&quot;to be or not to be!&quot;) ➞ &quot;To Be oR NoT To Be!&quot;\n",
    "ascii_capitalize(&quot;THE LITTLE MERMAID&quot;) ➞ &quot;THe LiTTLe meRmaiD&quot;\n",
    "ascii_capitalize(&quot;Oh what a beautiful morning.&quot;) ➞ &quot;oH wHaT a BeauTiFuL\n",
    "moRNiNg.&quot;"
   ]
  },
  {
   "cell_type": "code",
   "execution_count": 24,
   "id": "efcf233d-c8a9-47e7-9c18-9f8f54e722d6",
   "metadata": {},
   "outputs": [],
   "source": [
    "def cap(s):\n",
    "    l=[]\n",
    "    for i in s:\n",
    "        if(ord(i)%2==0):\n",
    "            l.append(i.upper())\n",
    "        else:\n",
    "            l.append(i.lower())\n",
    "    return ''.join(l)\n",
    "        \n",
    "            "
   ]
  },
  {
   "cell_type": "code",
   "execution_count": 25,
   "id": "dbe5337a-266e-450b-be88-82213e4a83d5",
   "metadata": {},
   "outputs": [
    {
     "data": {
      "text/plain": [
       "'THe LiTTLe meRmaiD'"
      ]
     },
     "execution_count": 25,
     "metadata": {},
     "output_type": "execute_result"
    }
   ],
   "source": [
    "cap(\"THE LITTLE MERMAID\")"
   ]
  },
  {
   "cell_type": "code",
   "execution_count": null,
   "id": "017429b4-a53f-434e-b55b-cc5065c3fcf8",
   "metadata": {},
   "outputs": [],
   "source": []
  }
 ],
 "metadata": {
  "kernelspec": {
   "display_name": "Python 3 (ipykernel)",
   "language": "python",
   "name": "python3"
  },
  "language_info": {
   "codemirror_mode": {
    "name": "ipython",
    "version": 3
   },
   "file_extension": ".py",
   "mimetype": "text/x-python",
   "name": "python",
   "nbconvert_exporter": "python",
   "pygments_lexer": "ipython3",
   "version": "3.10.0"
  }
 },
 "nbformat": 4,
 "nbformat_minor": 5
}
