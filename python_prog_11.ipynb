{
 "cells": [
  {
   "cell_type": "code",
   "execution_count": 1,
   "id": "55738e8e-4757-4bea-a722-2121873b26b7",
   "metadata": {},
   "outputs": [],
   "source": [
    "# Write a Python program to find words which are greater than given length k?"
   ]
  },
  {
   "cell_type": "code",
   "execution_count": 2,
   "id": "13cc13c0-f575-489a-b764-7f1847f584e9",
   "metadata": {},
   "outputs": [],
   "source": [
    "def task1(l,k):\n",
    "    res=[]\n",
    "    for i in l:\n",
    "        if len(i)>k:\n",
    "            res.append(i)\n",
    "    return res"
   ]
  },
  {
   "cell_type": "code",
   "execution_count": 3,
   "id": "e67d08e4-dc46-46d6-b380-abf7cc1f73ba",
   "metadata": {},
   "outputs": [
    {
     "data": {
      "text/plain": [
       "['monikaaaa', 'preetiii']"
      ]
     },
     "execution_count": 3,
     "metadata": {},
     "output_type": "execute_result"
    }
   ],
   "source": [
    "task1(['komal','monikaaaa','preetiii'],5)"
   ]
  },
  {
   "cell_type": "code",
   "execution_count": 4,
   "id": "8ec0f119-7945-4632-b227-c6e1c1cfe7e6",
   "metadata": {},
   "outputs": [],
   "source": [
    "#Write a Python program for removing i-th character from a string?"
   ]
  },
  {
   "cell_type": "code",
   "execution_count": 5,
   "id": "bd534e01-d934-4d8f-b973-2afe4c5e2dec",
   "metadata": {},
   "outputs": [],
   "source": [
    "def task2(s,k):\n",
    "    a=s[:k]\n",
    "    b=s[k+1:]\n",
    "    return a+b"
   ]
  },
  {
   "cell_type": "code",
   "execution_count": 6,
   "id": "5b23d6ac-8b4f-4c53-ab65-a37b0261f2f3",
   "metadata": {},
   "outputs": [
    {
     "data": {
      "text/plain": [
       "'koal'"
      ]
     },
     "execution_count": 6,
     "metadata": {},
     "output_type": "execute_result"
    }
   ],
   "source": [
    "task2('komal',2)"
   ]
  },
  {
   "cell_type": "code",
   "execution_count": 9,
   "id": "bed20ea5-097b-46cb-931d-7e1e8780f53b",
   "metadata": {},
   "outputs": [],
   "source": [
    "#or\n",
    "def task2_2(s,k):\n",
    "    li=list(s)\n",
    "    li.pop(k)\n",
    "    return \"\".join(li)\n"
   ]
  },
  {
   "cell_type": "code",
   "execution_count": 10,
   "id": "5ee6f7a9-0d30-40a0-b2c8-7890b4536d87",
   "metadata": {},
   "outputs": [
    {
     "data": {
      "text/plain": [
       "'koal'"
      ]
     },
     "execution_count": 10,
     "metadata": {},
     "output_type": "execute_result"
    }
   ],
   "source": [
    "task2_2('komal',2)"
   ]
  },
  {
   "cell_type": "code",
   "execution_count": 11,
   "id": "8f1090d1-32b4-44ed-bf4f-4fd2cf9e4782",
   "metadata": {},
   "outputs": [],
   "source": [
    "#Write a Python program to split and join a string?"
   ]
  },
  {
   "cell_type": "code",
   "execution_count": 15,
   "id": "d2560985-a610-46f4-9c4f-c2d390dbb8bd",
   "metadata": {},
   "outputs": [
    {
     "data": {
      "text/plain": [
       "['komal', 'is', 'a', 'nice', 'girl']"
      ]
     },
     "execution_count": 15,
     "metadata": {},
     "output_type": "execute_result"
    }
   ],
   "source": [
    "def split_string(s):\n",
    "    st=s.split(' ')\n",
    "    return st\n",
    "def join_string(s):\n",
    "    st='-'.join(s)\n",
    "    return st\n",
    "x=split_string('komal is a nice girl')\n",
    "x"
   ]
  },
  {
   "cell_type": "code",
   "execution_count": 16,
   "id": "3d46f509-1c37-4f5d-a96e-c3f44af4bb17",
   "metadata": {},
   "outputs": [
    {
     "data": {
      "text/plain": [
       "'komal-is-a-nice-girl'"
      ]
     },
     "execution_count": 16,
     "metadata": {},
     "output_type": "execute_result"
    }
   ],
   "source": [
    "join_string(x)"
   ]
  },
  {
   "cell_type": "code",
   "execution_count": 17,
   "id": "7f4bc1dd-9253-49f1-8021-e679faa4e133",
   "metadata": {},
   "outputs": [],
   "source": [
    "#Write a Python to check if a given string is binary string or not?"
   ]
  },
  {
   "cell_type": "code",
   "execution_count": 18,
   "id": "8e12ecca-c6a3-496f-96a6-0e938d1765aa",
   "metadata": {},
   "outputs": [],
   "source": [
    "def task4(s):\n",
    "    c=0\n",
    "    le=len(s)\n",
    "    for i in s:\n",
    "        if i=='0' or i=='1':\n",
    "            c=c+1\n",
    "    if(c==le):\n",
    "        print('given is a binary string')\n",
    "    else:\n",
    "        print('not a binary string')\n",
    "            "
   ]
  },
  {
   "cell_type": "code",
   "execution_count": 19,
   "id": "cc08224d-10e9-4913-b522-cd3524f359c4",
   "metadata": {},
   "outputs": [
    {
     "name": "stdout",
     "output_type": "stream",
     "text": [
      "not a binary string\n"
     ]
    }
   ],
   "source": [
    "task4('24mf')"
   ]
  },
  {
   "cell_type": "code",
   "execution_count": 20,
   "id": "575bedc0-f0f9-4a51-8a70-d03265439e29",
   "metadata": {},
   "outputs": [
    {
     "name": "stdout",
     "output_type": "stream",
     "text": [
      "given is a binary string\n"
     ]
    }
   ],
   "source": [
    "task4('011010')"
   ]
  },
  {
   "cell_type": "code",
   "execution_count": 21,
   "id": "729789d0-171f-4c2f-a5fa-d96d060dc14f",
   "metadata": {},
   "outputs": [],
   "source": [
    "#Write a Python program to find uncommon words from two Strings?\n"
   ]
  },
  {
   "cell_type": "code",
   "execution_count": 29,
   "id": "33ae150b-5dd7-4441-97fd-0d2529089e0e",
   "metadata": {},
   "outputs": [],
   "source": [
    "def task5(s1,s2):\n",
    "    s1_split=s1.split()\n",
    "    s2_split=s2.split()\n",
    "    x=[]\n",
    "    for i in s1_split:\n",
    "        if i not in s2_split:\n",
    "            x.append(i)\n",
    "    \n",
    "    for i in s2_split:\n",
    "        if i not in s1_split:\n",
    "            x.append(i)\n",
    "    res=list(set(x))\n",
    "    return res"
   ]
  },
  {
   "cell_type": "code",
   "execution_count": 30,
   "id": "202e008c-05e4-46c4-acb8-5abaca438916",
   "metadata": {},
   "outputs": [
    {
     "data": {
      "text/plain": [
       "['new', 'python', 'geeks', 'from']"
      ]
     },
     "execution_count": 30,
     "metadata": {},
     "output_type": "execute_result"
    }
   ],
   "source": [
    "task5('program from geeks','python program new')"
   ]
  },
  {
   "cell_type": "code",
   "execution_count": 31,
   "id": "e49a8aaf-8c9b-49fb-a332-82aead80c6d5",
   "metadata": {},
   "outputs": [],
   "source": [
    "#Write a Python to find all duplicate characters in string?"
   ]
  },
  {
   "cell_type": "code",
   "execution_count": 42,
   "id": "5e2c2c29-67d5-4d77-a5f5-423d7d558567",
   "metadata": {},
   "outputs": [],
   "source": [
    "from collections import Counter\n",
    "def task6(s):\n",
    "    st=Counter(s)\n",
    "    l=[]\n",
    "    print(st)\n",
    "    for key,value in st.items():\n",
    "        if value>1:\n",
    "            l.append(key)\n",
    "    return ''.join(l)\n",
    "    "
   ]
  },
  {
   "cell_type": "code",
   "execution_count": 43,
   "id": "de4d9f95-e103-4a10-a7b6-e3cb605ab2b3",
   "metadata": {},
   "outputs": [
    {
     "name": "stdout",
     "output_type": "stream",
     "text": [
      "Counter({'k': 2, 'o': 2, 'm': 2, 'a': 2, 'l': 1, 's': 1, 't': 1, 'r': 1, 'n': 1, 'g': 1, 'u': 1})\n"
     ]
    },
    {
     "data": {
      "text/plain": [
       "'koma'"
      ]
     },
     "execution_count": 43,
     "metadata": {},
     "output_type": "execute_result"
    }
   ],
   "source": [
    "task6('komalstrongkuma')"
   ]
  },
  {
   "cell_type": "code",
   "execution_count": 44,
   "id": "61b60abd-6c58-4092-834a-0096bd07e8e6",
   "metadata": {},
   "outputs": [],
   "source": [
    "#Write a Python Program to check if a string contains any special character?"
   ]
  },
  {
   "cell_type": "code",
   "execution_count": 45,
   "id": "0b2929a3-7e0b-49e4-8f45-15c025416317",
   "metadata": {},
   "outputs": [],
   "source": [
    "def task7(s):\n",
    "    n='[@_!#$%^&*()<>?/\\|}{~:]'\n",
    "    c=0\n",
    "    for i in range(len(s)):\n",
    "        if s[i] in n:\n",
    "            c=c+1\n",
    "    if c>0:\n",
    "        print('string not accepted')\n",
    "    else:\n",
    "        print('string accepted')"
   ]
  },
  {
   "cell_type": "code",
   "execution_count": 46,
   "id": "7a71d73d-e65f-4536-8505-5f667473cfbe",
   "metadata": {},
   "outputs": [
    {
     "name": "stdout",
     "output_type": "stream",
     "text": [
      "string not accepted\n"
     ]
    }
   ],
   "source": [
    "task7('python@&bjd')"
   ]
  },
  {
   "cell_type": "code",
   "execution_count": 47,
   "id": "5e85d299-7868-4134-a7ad-2bd5cc87514f",
   "metadata": {},
   "outputs": [
    {
     "name": "stdout",
     "output_type": "stream",
     "text": [
      "string accepted\n"
     ]
    }
   ],
   "source": [
    "task7('pythonbjd')"
   ]
  },
  {
   "cell_type": "code",
   "execution_count": null,
   "id": "89f29e46-9f13-4a48-a20f-97006194f451",
   "metadata": {},
   "outputs": [],
   "source": []
  }
 ],
 "metadata": {
  "kernelspec": {
   "display_name": "Python 3.9 (tensorflow)",
   "language": "python",
   "name": "tensorflow"
  },
  "language_info": {
   "codemirror_mode": {
    "name": "ipython",
    "version": 3
   },
   "file_extension": ".py",
   "mimetype": "text/x-python",
   "name": "python",
   "nbconvert_exporter": "python",
   "pygments_lexer": "ipython3",
   "version": "3.9.7"
  }
 },
 "nbformat": 4,
 "nbformat_minor": 5
}
