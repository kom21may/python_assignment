{
 "cells": [
  {
   "cell_type": "code",
   "execution_count": 10,
   "id": "19b985b8",
   "metadata": {},
   "outputs": [],
   "source": [
    "#Write a Python Program to Display Fibonacci Sequence Using Recursion?\n",
    "\n",
    "def fib(n):\n",
    "    a=1\n",
    "    b=1\n",
    "    if(n==1) or (n==2):\n",
    "        print(n,end=\" \")\n",
    "    else:\n",
    "        for i in range(n+1):\n",
    "            c=a+b\n",
    "            print(a,end=\" \")\n",
    "            a=b\n",
    "            b=c\n",
    "    "
   ]
  },
  {
   "cell_type": "code",
   "execution_count": 11,
   "id": "38b8a279",
   "metadata": {},
   "outputs": [
    {
     "name": "stdout",
     "output_type": "stream",
     "text": [
      "1 1 2 3 5 8 13 21 "
     ]
    }
   ],
   "source": [
    "fib(7)"
   ]
  },
  {
   "cell_type": "code",
   "execution_count": 5,
   "id": "de72f470",
   "metadata": {},
   "outputs": [],
   "source": [
    "#Write a Python Program to Find Factorial of Number Using Recursion?\n",
    "\n",
    "def factorial(n):\n",
    "    if n==0 or n==1:\n",
    "        return 1\n",
    "    else:\n",
    "        return n*factorial(n-1)"
   ]
  },
  {
   "cell_type": "code",
   "execution_count": 6,
   "id": "a8b77e69",
   "metadata": {},
   "outputs": [
    {
     "data": {
      "text/plain": [
       "24"
      ]
     },
     "execution_count": 6,
     "metadata": {},
     "output_type": "execute_result"
    }
   ],
   "source": [
    "factorial(4)"
   ]
  },
  {
   "cell_type": "code",
   "execution_count": 18,
   "id": "a26e3024",
   "metadata": {},
   "outputs": [
    {
     "name": "stdout",
     "output_type": "stream",
     "text": [
      "68\n",
      "1.67\n"
     ]
    }
   ],
   "source": [
    "#Write a Python Program to calculate your Body Mass Index?\n",
    "\n",
    "weight=int(input())#kg\n",
    "height=float(input())#cm\n",
    "BMI=weight//height**2\n"
   ]
  },
  {
   "cell_type": "code",
   "execution_count": 19,
   "id": "e57d7d3c",
   "metadata": {},
   "outputs": [
    {
     "name": "stdout",
     "output_type": "stream",
     "text": [
      "24.0\n"
     ]
    }
   ],
   "source": [
    "print(BMI)"
   ]
  },
  {
   "cell_type": "code",
   "execution_count": 20,
   "id": "bb14235a",
   "metadata": {},
   "outputs": [
    {
     "name": "stdout",
     "output_type": "stream",
     "text": [
      "14\n",
      "5\n",
      "1.6397385131955606\n"
     ]
    }
   ],
   "source": [
    "#Write a Python Program to calculate the natural logarithm of any number?\n",
    "import math\n",
    "n=int(input())\n",
    "base=int(input())\n",
    "log_res=math.log(n,base)\n",
    "print(log_res)\n",
    "#in cas eof base e print(math.log(n))"
   ]
  },
  {
   "cell_type": "code",
   "execution_count": 23,
   "id": "f14efb3b",
   "metadata": {},
   "outputs": [
    {
     "name": "stdout",
     "output_type": "stream",
     "text": [
      "5\n",
      "225\n"
     ]
    }
   ],
   "source": [
    "\n",
    "#Write a Python Program for cube sum of first n natural numbers?\n",
    "n=int(input())\n",
    "sum=0\n",
    "for i in range(n+1):\n",
    "    sum=sum+i**3\n",
    "print(sum)\n",
    "    "
   ]
  },
  {
   "cell_type": "code",
   "execution_count": null,
   "id": "e3bec8d9",
   "metadata": {},
   "outputs": [],
   "source": []
  }
 ],
 "metadata": {
  "kernelspec": {
   "display_name": "Python 3 (ipykernel)",
   "language": "python",
   "name": "python3"
  },
  "language_info": {
   "codemirror_mode": {
    "name": "ipython",
    "version": 3
   },
   "file_extension": ".py",
   "mimetype": "text/x-python",
   "name": "python",
   "nbconvert_exporter": "python",
   "pygments_lexer": "ipython3",
   "version": "3.9.12"
  }
 },
 "nbformat": 4,
 "nbformat_minor": 5
}
