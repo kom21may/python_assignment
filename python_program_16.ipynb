{
 "cells": [
  {
   "cell_type": "markdown",
   "metadata": {},
   "source": [
    "Write a function that stutters a word as if someone is struggling to read it. The\n",
    "first two letters are repeated twice with an ellipsis ... and space after each, and then the\n",
    "word is pronounced with a question mark ?."
   ]
  },
  {
   "cell_type": "markdown",
   "metadata": {},
   "source": [
    "#stutter(&quot;incredible&quot;) ➞ &quot;in... in... incredible?&quot;\n"
   ]
  },
  {
   "cell_type": "code",
   "execution_count": 5,
   "metadata": {},
   "outputs": [
    {
     "name": "stdout",
     "output_type": "stream",
     "text": [
      "incredible\n",
      "in...in...incredible?\n"
     ]
    }
   ],
   "source": [
    "n=input()\n",
    "print(n[0:2]+'...'+n[0:2]+'...'+n+'?')"
   ]
  },
  {
   "cell_type": "markdown",
   "metadata": {},
   "source": [
    "2.Create a function that takes an angle in radians and returns the corresponding\n",
    "angle in degrees rounded to one decimal place."
   ]
  },
  {
   "cell_type": "code",
   "execution_count": 11,
   "metadata": {},
   "outputs": [],
   "source": [
    "import math\n",
    "def convert_rad_degree(rad):\n",
    "    x=rad*180/math.pi\n",
    "    print(round(x,1))"
   ]
  },
  {
   "cell_type": "code",
   "execution_count": 12,
   "metadata": {},
   "outputs": [
    {
     "name": "stdout",
     "output_type": "stream",
     "text": [
      "1145.9\n"
     ]
    }
   ],
   "source": [
    "convert_rad_degree(20)"
   ]
  },
  {
   "cell_type": "markdown",
   "metadata": {},
   "source": [
    "In this challenge, establish if a given integer num is a Curzon number. If 1 plus\n",
    "2 elevated to num is exactly divisible by 1 plus 2 multiplied by num, then num is a Curzon\n",
    "number."
   ]
  },
  {
   "cell_type": "code",
   "execution_count": 18,
   "metadata": {},
   "outputs": [
    {
     "name": "stdout",
     "output_type": "stream",
     "text": [
      "10\n",
      "Not Curzon\n"
     ]
    }
   ],
   "source": [
    "n=int(input())\n",
    "x=2**n+1\n",
    "y=2*n+1\n",
    "if(x%y==0):\n",
    "    print('Curzon')\n",
    "else:\n",
    "    print('Not Curzon')"
   ]
  },
  {
   "cell_type": "code",
   "execution_count": 19,
   "metadata": {},
   "outputs": [],
   "source": [
    "#4.Given the side length x find the area of a hexagon."
   ]
  },
  {
   "cell_type": "code",
   "execution_count": 21,
   "metadata": {},
   "outputs": [
    {
     "name": "stdout",
     "output_type": "stream",
     "text": [
      "3\n",
      "23.4\n"
     ]
    }
   ],
   "source": [
    "a=int(input())\n",
    "area=(3*math.sqrt(3)*a**2)/2\n",
    "print(round(area,1))"
   ]
  },
  {
   "cell_type": "markdown",
   "metadata": {},
   "source": [
    "Create a function that returns a base-2 (binary) representation of a base-10\n",
    "(decimal) string number. To convert is simple: ((2) means base-2 and (10) means base-10)\n",
    "010101001(2) = 1 + 8 + 32 + 128."
   ]
  },
  {
   "cell_type": "code",
   "execution_count": 29,
   "metadata": {},
   "outputs": [
    {
     "data": {
      "text/plain": [
       "2130433"
      ]
     },
     "execution_count": 29,
     "metadata": {},
     "output_type": "execute_result"
    }
   ],
   "source": [
    "def val(c):\n",
    "    if c >= '0' and c <= '9':\n",
    "        return ord(c) - ord('0')\n",
    "    else:\n",
    "        return ord(c) - ord('A') + 10;\n",
    "def toDeci(str,base):\n",
    "    llen = len(str)\n",
    "    power = 1 #Initialize power of base\n",
    "    num = 0     #Initialize result\n",
    "    \n",
    "    # Decimal equivalent is str[len-1]*1 +\n",
    "    # str[len-2]*base + str[len-3]*(base^2) + ...\n",
    "    for i in range(llen - 1, -1, -1):\n",
    "        if val(str[i]) >= base:\n",
    "            print('Invalid Number')\n",
    "            return -1\n",
    "        # A digit in input number must\n",
    "        # be less than number's base\n",
    "        num += val(str[i]) * power\n",
    "        power = power * base\n",
    "    return num\n",
    "toDeci('0010101001',2)\n",
    "toDeci('0010101001',8)"
   ]
  },
  {
   "cell_type": "code",
   "execution_count": 33,
   "metadata": {},
   "outputs": [
    {
     "data": {
      "text/plain": [
       "57"
      ]
     },
     "execution_count": 33,
     "metadata": {},
     "output_type": "execute_result"
    }
   ],
   "source": [
    "ord('9')"
   ]
  },
  {
   "cell_type": "code",
   "execution_count": null,
   "metadata": {},
   "outputs": [],
   "source": []
  }
 ],
 "metadata": {
  "kernelspec": {
   "display_name": "Python 3",
   "language": "python",
   "name": "python3"
  },
  "language_info": {
   "codemirror_mode": {
    "name": "ipython",
    "version": 3
   },
   "file_extension": ".py",
   "mimetype": "text/x-python",
   "name": "python",
   "nbconvert_exporter": "python",
   "pygments_lexer": "ipython3",
   "version": "3.7.3"
  }
 },
 "nbformat": 4,
 "nbformat_minor": 4
}
