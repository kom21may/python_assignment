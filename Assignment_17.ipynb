{
 "cells": [
  {
   "cell_type": "markdown",
   "id": "ddee436a",
   "metadata": {},
   "source": [
    ". Assign the value 7 to the variable guess_me. Then, write the conditional tests (if, else, and elif) to print the string 'too low' if guess_me is less than 7, 'too high' if greater than 7, and 'just right' if equal to 7.# "
   ]
  },
  {
   "cell_type": "code",
   "execution_count": 1,
   "id": "b8fd500a",
   "metadata": {},
   "outputs": [
    {
     "name": "stdout",
     "output_type": "stream",
     "text": [
      "just right\n"
     ]
    }
   ],
   "source": [
    "guess_me=7\n",
    "if guess_me<7:\n",
    "    print(\"too low\")\n",
    "elif guess_me>7:\n",
    "    print('too high')\n",
    "else:\n",
    "    print('just right')"
   ]
  },
  {
   "cell_type": "markdown",
   "id": "2076c270",
   "metadata": {},
   "source": [
    "Assign the value 7 to the variable guess_me and the value 1 to the variable start. Write a while loop that compares start with guess_me. Print too low if start is less than guess me. If start equals guess_me, print 'found it!' and exit the loop. If start is greater than guess_me, print 'oops' and exit the loop. Increment start at the end of the loop."
   ]
  },
  {
   "cell_type": "code",
   "execution_count": 15,
   "id": "dea93dd0",
   "metadata": {},
   "outputs": [
    {
     "name": "stdout",
     "output_type": "stream",
     "text": [
      "too low\n",
      "too low\n",
      "too low\n",
      "too low\n",
      "too low\n",
      "too low\n",
      "found it\n"
     ]
    }
   ],
   "source": [
    "start=1\n",
    "guess_me=7\n",
    "while True:\n",
    "    if start<guess_me:\n",
    "        print(\"too low\")\n",
    "    elif start>guess_me:\n",
    "        print('oops')\n",
    "        break\n",
    "    else:\n",
    "        print('found it')\n",
    "        break\n",
    "    start=start+1\n"
   ]
  },
  {
   "cell_type": "markdown",
   "id": "47abdebc",
   "metadata": {},
   "source": [
    "Use a list comprehension to make a list of the even numbers in range(10)"
   ]
  },
  {
   "cell_type": "code",
   "execution_count": 8,
   "id": "661c5d92",
   "metadata": {},
   "outputs": [],
   "source": [
    "l=[i for i in range(10) if i%2==0]"
   ]
  },
  {
   "cell_type": "code",
   "execution_count": 9,
   "id": "95137708",
   "metadata": {},
   "outputs": [
    {
     "data": {
      "text/plain": [
       "[0, 2, 4, 6, 8]"
      ]
     },
     "execution_count": 9,
     "metadata": {},
     "output_type": "execute_result"
    }
   ],
   "source": [
    "l"
   ]
  },
  {
   "cell_type": "markdown",
   "id": "ecf8844b",
   "metadata": {},
   "source": [
    "Use a dictionary comprehension to create the dictionary squares. Use range(10) to return the keys, and use the square of each key as its value."
   ]
  },
  {
   "cell_type": "code",
   "execution_count": 10,
   "id": "59938877",
   "metadata": {},
   "outputs": [],
   "source": [
    "di_sq={x:x**2 for x in range(10)}"
   ]
  },
  {
   "cell_type": "code",
   "execution_count": 11,
   "id": "24bccf05",
   "metadata": {},
   "outputs": [
    {
     "data": {
      "text/plain": [
       "{0: 0, 1: 1, 2: 4, 3: 9, 4: 16, 5: 25, 6: 36, 7: 49, 8: 64, 9: 81}"
      ]
     },
     "execution_count": 11,
     "metadata": {},
     "output_type": "execute_result"
    }
   ],
   "source": [
    "di_sq"
   ]
  },
  {
   "cell_type": "markdown",
   "id": "9d530419",
   "metadata": {},
   "source": [
    "Construct the set odd from the odd numbers in the range using a set comprehension (10)."
   ]
  },
  {
   "cell_type": "code",
   "execution_count": 12,
   "id": "91e9cd25",
   "metadata": {},
   "outputs": [],
   "source": [
    "s={x for x in range(10) if x%2!=0}#set comprehension"
   ]
  },
  {
   "cell_type": "code",
   "execution_count": 13,
   "id": "6942bf45",
   "metadata": {},
   "outputs": [
    {
     "data": {
      "text/plain": [
       "{1, 3, 5, 7, 9}"
      ]
     },
     "execution_count": 13,
     "metadata": {},
     "output_type": "execute_result"
    }
   ],
   "source": [
    "s"
   ]
  },
  {
   "cell_type": "markdown",
   "id": "d9f87acc",
   "metadata": {},
   "source": [
    "Use a generator comprehension to return the string 'Got ' and a number for the numbers in range(10). Iterate through this by using a for loop."
   ]
  },
  {
   "cell_type": "code",
   "execution_count": 16,
   "id": "d79b787d",
   "metadata": {},
   "outputs": [
    {
     "name": "stdout",
     "output_type": "stream",
     "text": [
      "Got 0\n",
      "Got 1\n",
      "Got 2\n",
      "Got 3\n",
      "Got 4\n",
      "Got 5\n",
      "Got 6\n",
      "Got 7\n",
      "Got 8\n",
      "Got 9\n"
     ]
    }
   ],
   "source": [
    "limit = 10\n",
    "string_generator = ('Got ' + str(num) for num in range(limit))\n",
    "for item in string_generator:\n",
    "    print(item)"
   ]
  },
  {
   "cell_type": "markdown",
   "id": "ff2f4100",
   "metadata": {},
   "source": [
    ". Define a function called good that returns the list ['Harry', 'Ron', 'Hermione']."
   ]
  },
  {
   "cell_type": "code",
   "execution_count": 17,
   "id": "2032e9e4",
   "metadata": {},
   "outputs": [
    {
     "data": {
      "text/plain": [
       "['Harry', 'Ron', 'Hermione']"
      ]
     },
     "execution_count": 17,
     "metadata": {},
     "output_type": "execute_result"
    }
   ],
   "source": [
    "def good():\n",
    "    return ['Harry', 'Ron', 'Hermione']\n",
    "good()"
   ]
  },
  {
   "cell_type": "markdown",
   "id": "5ecb0d82",
   "metadata": {},
   "source": [
    "Define a generator function called get_odds that returns the odd numbers from range(10). Use a for loop to find and print the third value returned."
   ]
  },
  {
   "cell_type": "code",
   "execution_count": 50,
   "id": "e3ec4762",
   "metadata": {},
   "outputs": [],
   "source": [
    "gen=(x for x in range(10) if x%2==1)"
   ]
  },
  {
   "cell_type": "code",
   "execution_count": 45,
   "id": "6921df57",
   "metadata": {},
   "outputs": [
    {
     "name": "stdout",
     "output_type": "stream",
     "text": [
      "1\n",
      "3\n",
      "5\n",
      "7\n",
      "9\n"
     ]
    }
   ],
   "source": [
    "for i in gen:\n",
    "    print(i)"
   ]
  },
  {
   "cell_type": "code",
   "execution_count": 52,
   "id": "3648b4b3",
   "metadata": {},
   "outputs": [
    {
     "name": "stdout",
     "output_type": "stream",
     "text": [
      "7\n",
      "9\n"
     ]
    }
   ],
   "source": [
    "#WHY IT IS HAPPENING if I removed previpus row and start run from 4 then it works fine\n",
    "for i in gen:\n",
    "    print(i)\n",
    "count=0\n",
    "for j in gen:\n",
    "    if count==2:\n",
    "        print(i)\n",
    "        break\n",
    "    count=count+1"
   ]
  },
  {
   "cell_type": "markdown",
   "id": "3bddc054",
   "metadata": {},
   "source": [
    "Define an exception called OopsException. Raise this exception to see what happens. Then write the code to catch this exception and print 'Caught an oops'."
   ]
  },
  {
   "cell_type": "code",
   "execution_count": 61,
   "id": "ce8bbac1",
   "metadata": {},
   "outputs": [
    {
     "name": "stdout",
     "output_type": "stream",
     "text": [
      "caught an oops\n"
     ]
    }
   ],
   "source": [
    "class OopsException(Exception):\n",
    "    pass\n",
    "\n",
    "def func_excep(a):\n",
    "    if a<0:\n",
    "        raise OopsException(a)\n",
    "\n",
    "try:\n",
    "    func_excep(-1)\n",
    "except OopsException as err:\n",
    "    print('caught an oops')"
   ]
  },
  {
   "cell_type": "markdown",
   "id": "9e9367a4",
   "metadata": {},
   "source": [
    "11. Use zip() to make a dictionary called movies that pairs these lists: titles = ['Creature of Habit', 'Crewel Fate'] and plots = ['A nun turns into a monster', 'A haunted yarn shop']."
   ]
  },
  {
   "cell_type": "code",
   "execution_count": 55,
   "id": "af89e57b",
   "metadata": {},
   "outputs": [],
   "source": [
    "titles = ['Creature of Habit', 'Crewel Fate']\n",
    "plots = ['A nun turns into a monster', 'A haunted yarn shop']\n",
    "l={k:v for k,v in zip(titles,plots)}"
   ]
  },
  {
   "cell_type": "code",
   "execution_count": 56,
   "id": "1cf7e87c",
   "metadata": {},
   "outputs": [
    {
     "data": {
      "text/plain": [
       "{'Creature of Habit': 'A nun turns into a monster',\n",
       " 'Crewel Fate': 'A haunted yarn shop'}"
      ]
     },
     "execution_count": 56,
     "metadata": {},
     "output_type": "execute_result"
    }
   ],
   "source": [
    "l"
   ]
  },
  {
   "cell_type": "code",
   "execution_count": null,
   "id": "47f936e0",
   "metadata": {},
   "outputs": [],
   "source": []
  }
 ],
 "metadata": {
  "kernelspec": {
   "display_name": "Python 3 (ipykernel)",
   "language": "python",
   "name": "python3"
  },
  "language_info": {
   "codemirror_mode": {
    "name": "ipython",
    "version": 3
   },
   "file_extension": ".py",
   "mimetype": "text/x-python",
   "name": "python",
   "nbconvert_exporter": "python",
   "pygments_lexer": "ipython3",
   "version": "3.9.12"
  }
 },
 "nbformat": 4,
 "nbformat_minor": 5
}
