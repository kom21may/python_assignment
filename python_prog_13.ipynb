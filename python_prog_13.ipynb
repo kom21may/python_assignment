{
 "cells": [
  {
   "cell_type": "code",
   "execution_count": 1,
   "id": "8f4b3b20-ac21-4fbb-8329-854066eda035",
   "metadata": {},
   "outputs": [],
   "source": [
    "# Question 1:\n",
    "# Write a program that calculates and prints the value according to the given formula:\n",
    "# Q = Square root of [(2 * C * D)/H]\n",
    "# Following are the fixed values of C and H:\n",
    "# C is 50. H is 30.\n",
    "# D is the variable whose values should be input to your program in a comma-separated\n",
    "# sequence.\n",
    "# Example\n",
    "# Let us assume the following comma separated input sequence is given to the program:\n",
    "# 100,150,180\n",
    "# The output of the program should be:\n",
    "# 18,22,24"
   ]
  },
  {
   "cell_type": "code",
   "execution_count": 18,
   "id": "2c94bf18-1d46-4d61-a812-599b649ecba6",
   "metadata": {},
   "outputs": [
    {
     "name": "stdin",
     "output_type": "stream",
     "text": [
      " 100,150,180\n"
     ]
    },
    {
     "name": "stdout",
     "output_type": "stream",
     "text": [
      "18 22 24 "
     ]
    }
   ],
   "source": [
    "import math\n",
    "c,h=50,30\n",
    "d=input().split(',')\n",
    "for i in d:\n",
    "    q=int(math.sqrt((2*c*int(i))/h))\n",
    "    print(q,end=' ')"
   ]
  },
  {
   "cell_type": "code",
   "execution_count": 2,
   "id": "de21d359-26df-40c7-ae75-b93a2d7f664e",
   "metadata": {},
   "outputs": [],
   "source": [
    "# Question 2:\n",
    "# Write a program which takes 2 digits, X,Y as input and generates a 2-dimensional array. The\n",
    "# element value in the i-th row and j-th column of the array should be i*j.\n",
    "# Note: i=0,1.., X-1; j=0,1,¡Y-1.\n",
    "# Example\n",
    "# Suppose the following inputs are given to the program:\n",
    "# 3,5\n",
    "# Then, the output of the program should be:\n",
    "# [[0, 0, 0, 0, 0], [0, 1, 2, 3, 4], [0, 2, 4, 6, 8]]"
   ]
  },
  {
   "cell_type": "code",
   "execution_count": 73,
   "id": "563995fa-5794-43cc-802a-66e205c40488",
   "metadata": {},
   "outputs": [
    {
     "name": "stdin",
     "output_type": "stream",
     "text": [
      " 3,5\n"
     ]
    },
    {
     "data": {
      "text/plain": [
       "[[0, 0, 0, 0, 0], [0, 1, 2, 3, 4], [0, 2, 4, 6, 8]]"
      ]
     },
     "execution_count": 73,
     "metadata": {},
     "output_type": "execute_result"
    }
   ],
   "source": [
    "x,y=input().split(',')\n",
    "x = int(x)\n",
    "y = int(y)\n",
    "l = [[x*y for y in range(y)] for x in range(x)]\n",
    "l"
   ]
  },
  {
   "cell_type": "code",
   "execution_count": 3,
   "id": "f8cc6d84-e8ae-4f82-b408-e4c2cfe7d3f5",
   "metadata": {},
   "outputs": [],
   "source": [
    "# Question 3:\n",
    "# Write a program that accepts a comma separated sequence of words as input and prints the\n",
    "# words in a comma-separated sequence after sorting them alphabetically.\n",
    "# Suppose the following input is supplied to the program:\n",
    "# without,hello,bag,world\n",
    "# Then, the output should be:\n",
    "# bag,hello,without,world"
   ]
  },
  {
   "cell_type": "code",
   "execution_count": 75,
   "id": "e36ed5e3-8702-4592-ae9c-ddafbe0c60c5",
   "metadata": {},
   "outputs": [
    {
     "name": "stdin",
     "output_type": "stream",
     "text": [
      " without,hello,bag,world\n"
     ]
    },
    {
     "name": "stdout",
     "output_type": "stream",
     "text": [
      "bag,hello,without,world\n"
     ]
    }
   ],
   "source": [
    "s =input().split(',')\n",
    "x = sorted(s)\n",
    "print(\",\".join(x))"
   ]
  },
  {
   "cell_type": "code",
   "execution_count": 4,
   "id": "d3cbd3f6-395f-47f7-b62d-2ec1efd7c420",
   "metadata": {},
   "outputs": [],
   "source": [
    "# Question 4:\n",
    "# Write a program that accepts a sequence of whitespace separated words as input and prints\n",
    "# the words after removing all duplicate words and sorting them alphanumerically.\n",
    "# Suppose the following input is supplied to the program:\n",
    "# hello world and practice makes perfect and hello world again\n",
    "# Then, the output should be:\n",
    "# again and hello makes perfect practice world"
   ]
  },
  {
   "cell_type": "code",
   "execution_count": 84,
   "id": "58404654-4420-4ddb-82e5-b1317f639cdd",
   "metadata": {},
   "outputs": [
    {
     "name": "stdin",
     "output_type": "stream",
     "text": [
      " hello world and practice makes perfect and hello world again\n"
     ]
    },
    {
     "name": "stdout",
     "output_type": "stream",
     "text": [
      "again and hello makes perfect practice world\n"
     ]
    }
   ],
   "source": [
    "s =input().split(' ')\n",
    "x = list(set(s))\n",
    "x = sorted(x)\n",
    "print(\" \".join(x))\n"
   ]
  },
  {
   "cell_type": "code",
   "execution_count": 5,
   "id": "c0c6ed58-88ea-46b8-93b7-787575fdff20",
   "metadata": {},
   "outputs": [],
   "source": [
    "# Question 5:\n",
    "# Write a program that accepts a sentence and calculate the number of letters and digits.\n",
    "# Suppose the following input is supplied to the program:\n",
    "# hello world! 123\n",
    "# Then, the output should be:\n",
    "# LETTERS 10\n",
    "\n",
    "# DIGITS 3"
   ]
  },
  {
   "cell_type": "code",
   "execution_count": 88,
   "id": "a93d9a78-2274-4d4c-8108-6d8e14f2bc69",
   "metadata": {},
   "outputs": [
    {
     "name": "stdin",
     "output_type": "stream",
     "text": [
      "  hello world! 123\n"
     ]
    },
    {
     "name": "stdout",
     "output_type": "stream",
     "text": [
      " hello world! 123\n",
      "10 3\n"
     ]
    }
   ],
   "source": [
    "s =input()\n",
    "print(s)\n",
    "d = 0\n",
    "l = 0\n",
    "for i in s:\n",
    "    if i.isdigit():\n",
    "        d +=1\n",
    "    if i.isalpha():\n",
    "        l=l+1\n",
    "        \n",
    "print(l,d)"
   ]
  },
  {
   "cell_type": "code",
   "execution_count": 6,
   "id": "25790a29-d7d4-4d75-bbe7-2d6c3ae5aef8",
   "metadata": {},
   "outputs": [],
   "source": [
    "# Question 6:\n",
    "# A website requires the users to input username and password to register. Write a program to\n",
    "# check the validity of password input by users.\n",
    "# Following are the criteria for checking the password:\n",
    "# 1. At least 1 letter between [a-z]\n",
    "# 2. At least 1 number between [0-9]\n",
    "# 1. At least 1 letter between [A-Z]\n",
    "# 3. At least 1 character from [$#@]\n",
    "# 4. Minimum length of transaction password: 6\n",
    "# 5. Maximum length of transaction password: 12\n",
    "# Your program should accept a sequence of comma separated passwords and will check them\n",
    "# according to the above criteria. Passwords that match the criteria are to be printed, each\n",
    "# separated by a comma.\n",
    "# Example\n",
    "# If the following passwords are given as input to the program:\n",
    "# ABd1234@1,a F1#,2w3E*,2We3345\n",
    "# Then, the output of the program should be:\n",
    "# ABd1234@1"
   ]
  },
  {
   "cell_type": "code",
   "execution_count": 91,
   "id": "31f281f5-fb20-4a9a-864b-fc49ed4e551b",
   "metadata": {},
   "outputs": [
    {
     "name": "stdin",
     "output_type": "stream",
     "text": [
      " ABd1234@1,a F1#,2w3E*,2We3345\n"
     ]
    },
    {
     "name": "stdout",
     "output_type": "stream",
     "text": [
      "Valid Password\n",
      "Invalid Password\n",
      "Invalid Password\n",
      "Invalid Password\n"
     ]
    }
   ],
   "source": [
    "sen =input().split(',')\n",
    "l, u, p, d = 0, 0, 0, 0\n",
    "for s in sen:\n",
    "    if (len(s) >= 6 and len(s) <= 12):\n",
    "        for i in s:\n",
    "\n",
    "            # counting lowercase alphabets\n",
    "            if (i.islower()):\n",
    "                l+=1           \n",
    "\n",
    "            # counting uppercase alphabets\n",
    "            if (i.isupper()):\n",
    "                u+=1           \n",
    "\n",
    "            # counting digits\n",
    "            if (i.isdigit()):\n",
    "                d+=1           \n",
    "\n",
    "            # counting the mentioned special characters\n",
    "            if(i=='@'or i=='$' or i=='_'):\n",
    "                p+=1          \n",
    "    if (l>=1 and u>=1 and p>=1 and d>=1 and l+p+u+d==len(s)):\n",
    "        print(\"Valid Password\")\n",
    "    else:\n",
    "        print(\"Invalid Password\")"
   ]
  },
  {
   "cell_type": "code",
   "execution_count": null,
   "id": "0cc07993-3942-4311-96d8-5fc0a9fe0874",
   "metadata": {},
   "outputs": [],
   "source": []
  }
 ],
 "metadata": {
  "kernelspec": {
   "display_name": "Python 3.9 (tensorflow)",
   "language": "python",
   "name": "tensorflow"
  },
  "language_info": {
   "codemirror_mode": {
    "name": "ipython",
    "version": 3
   },
   "file_extension": ".py",
   "mimetype": "text/x-python",
   "name": "python",
   "nbconvert_exporter": "python",
   "pygments_lexer": "ipython3",
   "version": "3.9.7"
  }
 },
 "nbformat": 4,
 "nbformat_minor": 5
}
