{
 "cells": [
  {
   "cell_type": "markdown",
   "id": "90df3f44-7cfa-421e-8fd6-4cc594c50f8f",
   "metadata": {},
   "source": [
    "Create a function that takes a list of strings and integers, and filters out the list so that it\n",
    "returns a list of integers only."
   ]
  },
  {
   "cell_type": "code",
   "execution_count": 3,
   "id": "69f44e8d-18bf-4ccd-bfdd-0fa3b45f4637",
   "metadata": {},
   "outputs": [],
   "source": [
    "def listi(s):\n",
    "    l_new=[]\n",
    "    for i in range(len(s)):\n",
    "        if type(s[i])!=str:\n",
    "            l_new.append(s[i])\n",
    "    return l_new"
   ]
  },
  {
   "cell_type": "code",
   "execution_count": 4,
   "id": "555871f8-6a87-454a-84f7-3cff54b4994e",
   "metadata": {},
   "outputs": [
    {
     "data": {
      "text/plain": [
       "[2, 3, 4]"
      ]
     },
     "execution_count": 4,
     "metadata": {},
     "output_type": "execute_result"
    }
   ],
   "source": [
    "listi([2,3,4,'kom','pyth'])"
   ]
  },
  {
   "cell_type": "code",
   "execution_count": 5,
   "id": "fec50b91-bbe8-402c-bee9-45cc84b849da",
   "metadata": {},
   "outputs": [
    {
     "data": {
      "text/plain": [
       "[]"
      ]
     },
     "execution_count": 5,
     "metadata": {},
     "output_type": "execute_result"
    }
   ],
   "source": [
    "listi(['kom','pyth'])"
   ]
  },
  {
   "cell_type": "markdown",
   "id": "1ea200d1-cf9d-423c-8bbe-c867f6844096",
   "metadata": {},
   "source": [
    "Given a list of numbers, create a function which returns the list but with each element&#39;s\n",
    "index in the list added to itself. This means you add 0 to the number at index 0, add 1 to the\n",
    "number at index 1, etc..."
   ]
  },
  {
   "cell_type": "code",
   "execution_count": 6,
   "id": "9501ca94-ca7a-4af9-8820-2663b6777744",
   "metadata": {},
   "outputs": [],
   "source": [
    "def task2(s):\n",
    "    li=[]\n",
    "    \n",
    "    for i in range(len(s)):\n",
    "        li.append(i+s[i])\n",
    "    return li\n",
    "        "
   ]
  },
  {
   "cell_type": "code",
   "execution_count": 7,
   "id": "11e30f5d-47e1-4056-b719-40e2b7a4f0d1",
   "metadata": {},
   "outputs": [
    {
     "data": {
      "text/plain": [
       "[2, 4, 7]"
      ]
     },
     "execution_count": 7,
     "metadata": {},
     "output_type": "execute_result"
    }
   ],
   "source": [
    "task2([2,3,5])"
   ]
  },
  {
   "cell_type": "markdown",
   "id": "eca70d7b-3293-4fa1-94ec-4e19e8e84b2d",
   "metadata": {},
   "source": [
    "Create a function that takes the height and radius of a cone as arguments and returns the\n",
    "volume of the cone rounded to the nearest hundredth. See the resources tab for the formula."
   ]
  },
  {
   "cell_type": "code",
   "execution_count": 14,
   "id": "04e3267f-68ec-4165-97a3-104f6bbe99b1",
   "metadata": {},
   "outputs": [],
   "source": [
    "#1/3*pi*r*r*h\n",
    "import math\n",
    "def vol_cone(h,r):\n",
    "    x=math.pi*r*r*h/3\n",
    "    return round(x,2)\n",
    "    "
   ]
  },
  {
   "cell_type": "code",
   "execution_count": 15,
   "id": "1955290c-0e17-4c56-9785-e5a867fd4409",
   "metadata": {},
   "outputs": [
    {
     "data": {
      "text/plain": [
       "565.49"
      ]
     },
     "execution_count": 15,
     "metadata": {},
     "output_type": "execute_result"
    }
   ],
   "source": [
    "vol_cone(15,6)"
   ]
  },
  {
   "cell_type": "code",
   "execution_count": 43,
   "id": "68621ac8-8e20-4747-90d7-1281b1d0e839",
   "metadata": {},
   "outputs": [],
   "source": [
    "def tri_dot(s):\n",
    "    c=2\n",
    "    l=[]\n",
    "    d=1\n",
    "    while(c!=s+1):\n",
    "        d=d+c\n",
    "        c=c+1\n",
    "        l.append(d)\n",
    "    print(l)\n",
    "    return d\n",
    "        \n",
    "        "
   ]
  },
  {
   "cell_type": "code",
   "execution_count": 44,
   "id": "62990d28-b045-4780-82fe-3bf14873f0c1",
   "metadata": {},
   "outputs": [
    {
     "name": "stdout",
     "output_type": "stream",
     "text": [
      "[3, 6, 10, 15]\n"
     ]
    },
    {
     "data": {
      "text/plain": [
       "15"
      ]
     },
     "execution_count": 44,
     "metadata": {},
     "output_type": "execute_result"
    }
   ],
   "source": [
    "tri_dot(5)"
   ]
  },
  {
   "cell_type": "code",
   "execution_count": 74,
   "id": "4feb019a-b325-4bed-a57d-a8c506c4529c",
   "metadata": {},
   "outputs": [],
   "source": [
    "def missing(s):\n",
    "    n = 10\n",
    "    total = (n *(n+1))/2\n",
    "    for i in s:\n",
    "        total = total-i\n",
    "    return int(total)"
   ]
  },
  {
   "cell_type": "code",
   "execution_count": 75,
   "id": "ec5051a0-f444-4722-ad51-0c7e3cf12ac1",
   "metadata": {},
   "outputs": [
    {
     "name": "stdout",
     "output_type": "stream",
     "text": [
      "6\n"
     ]
    }
   ],
   "source": [
    "print(missing([1,2,3,4,5,7,8,9,10]))"
   ]
  },
  {
   "cell_type": "code",
   "execution_count": null,
   "id": "2eb22e9d-071e-4937-9a6e-fce54bb55960",
   "metadata": {},
   "outputs": [],
   "source": []
  }
 ],
 "metadata": {
  "kernelspec": {
   "display_name": "Python 3 (ipykernel)",
   "language": "python",
   "name": "python3"
  },
  "language_info": {
   "codemirror_mode": {
    "name": "ipython",
    "version": 3
   },
   "file_extension": ".py",
   "mimetype": "text/x-python",
   "name": "python",
   "nbconvert_exporter": "python",
   "pygments_lexer": "ipython3",
   "version": "3.10.0"
  }
 },
 "nbformat": 4,
 "nbformat_minor": 5
}
