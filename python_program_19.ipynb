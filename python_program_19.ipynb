{
 "cells": [
  {
   "cell_type": "markdown",
   "id": "adf7b960-66da-44ea-8299-d75aac580e27",
   "metadata": {},
   "source": [
    "#Create a function that takes a string and returns a string in which each character is repeated\n",
    "once."
   ]
  },
  {
   "cell_type": "code",
   "execution_count": 7,
   "id": "5a19526a-6b91-4c90-8099-34ae861045f8",
   "metadata": {},
   "outputs": [],
   "source": [
    "def task1(s):\n",
    "    l=[]\n",
    "    for i in s:\n",
    "        l.append(i*2)\n",
    "    return ''.join(l)\n",
    "    "
   ]
  },
  {
   "cell_type": "code",
   "execution_count": 8,
   "id": "daac05d1-7522-465a-ad11-feda6de62f9e",
   "metadata": {},
   "outputs": [
    {
     "data": {
      "text/plain": [
       "'hheelllloo'"
      ]
     },
     "execution_count": 8,
     "metadata": {},
     "output_type": "execute_result"
    }
   ],
   "source": [
    "task1('hello')"
   ]
  },
  {
   "cell_type": "code",
   "execution_count": 9,
   "id": "2d6b7ba2-b2f2-4262-b9b1-287fa91c4052",
   "metadata": {},
   "outputs": [
    {
     "data": {
      "text/plain": [
       "'ssttrriinngg'"
      ]
     },
     "execution_count": 9,
     "metadata": {},
     "output_type": "execute_result"
    }
   ],
   "source": [
    "task1('string')"
   ]
  },
  {
   "cell_type": "markdown",
   "id": "8835c521-8caf-4eb9-a594-cddbde5ffcc4",
   "metadata": {},
   "source": [
    "Create a function that reverses a boolean value and returns the string &quot;boolean expected&quot;\n",
    "if another variable type is given."
   ]
  },
  {
   "cell_type": "code",
   "execution_count": 23,
   "id": "59e13f16-4cf8-48ca-94c8-38a953d8a9e1",
   "metadata": {},
   "outputs": [],
   "source": [
    "def reverse_bool(s):\n",
    "    st=str(s)\n",
    "    if st=='True':\n",
    "        return False\n",
    "    elif st=='False':\n",
    "        return True\n",
    "    else:\n",
    "        return 'Boolean Expected'"
   ]
  },
  {
   "cell_type": "code",
   "execution_count": 24,
   "id": "661feace-9d11-4297-a94d-e195ff71c34e",
   "metadata": {},
   "outputs": [
    {
     "data": {
      "text/plain": [
       "False"
      ]
     },
     "execution_count": 24,
     "metadata": {},
     "output_type": "execute_result"
    }
   ],
   "source": [
    "reverse_bool(True)"
   ]
  },
  {
   "cell_type": "code",
   "execution_count": 25,
   "id": "abb75b2b-88c7-4e76-a3ba-6e46a303f53c",
   "metadata": {},
   "outputs": [
    {
     "data": {
      "text/plain": [
       "True"
      ]
     },
     "execution_count": 25,
     "metadata": {},
     "output_type": "execute_result"
    }
   ],
   "source": [
    "reverse_bool(False)"
   ]
  },
  {
   "cell_type": "code",
   "execution_count": 26,
   "id": "aae42b28-cf00-4e47-a940-915a1728c9fb",
   "metadata": {},
   "outputs": [
    {
     "data": {
      "text/plain": [
       "'Boolean Expected'"
      ]
     },
     "execution_count": 26,
     "metadata": {},
     "output_type": "execute_result"
    }
   ],
   "source": [
    "reverse_bool(0)"
   ]
  },
  {
   "cell_type": "code",
   "execution_count": 27,
   "id": "1677900a-bb2b-4869-9454-812c27d76385",
   "metadata": {},
   "outputs": [
    {
     "data": {
      "text/plain": [
       "'Boolean Expected'"
      ]
     },
     "execution_count": 27,
     "metadata": {},
     "output_type": "execute_result"
    }
   ],
   "source": [
    "reverse_bool(None)"
   ]
  },
  {
   "cell_type": "code",
   "execution_count": 39,
   "id": "017fb611-a669-4992-9485-a997caafb9b2",
   "metadata": {},
   "outputs": [],
   "source": [
    "def fold_s(s):\n",
    "    res=0.5\n",
    "    for i in range(s):\n",
    "        res*=2\n",
    "    return res/1000"
   ]
  },
  {
   "cell_type": "code",
   "execution_count": 40,
   "id": "06b6dc10-3e1b-458d-b40f-c6fd8d3a5ab7",
   "metadata": {},
   "outputs": [
    {
     "data": {
      "text/plain": [
       "1048.576"
      ]
     },
     "execution_count": 40,
     "metadata": {},
     "output_type": "execute_result"
    }
   ],
   "source": [
    "fold_s(21)"
   ]
  },
  {
   "cell_type": "code",
   "execution_count": 28,
   "id": "08f2cf27-3e13-468d-800f-67a30ee34e4b",
   "metadata": {},
   "outputs": [],
   "source": [
    "def cap_s_inde(s):\n",
    "    l=[]\n",
    "    for i in s:\n",
    "        if i.isupper():\n",
    "            l.append(s.index(i))\n",
    "    return l\n",
    "        \n",
    "            "
   ]
  },
  {
   "cell_type": "code",
   "execution_count": 29,
   "id": "31d5787f-a5c9-436d-922e-6f72499f9694",
   "metadata": {},
   "outputs": [
    {
     "data": {
      "text/plain": [
       "[0, 1, 5]"
      ]
     },
     "execution_count": 29,
     "metadata": {},
     "output_type": "execute_result"
    }
   ],
   "source": [
    "cap_s_inde('DSpenB')"
   ]
  },
  {
   "cell_type": "markdown",
   "id": "6da0fc68-6c5d-410a-a0c8-d9cafddf4595",
   "metadata": {},
   "source": [
    "Using list comprehensions, create a function that finds all even numbers from 1 to the given\n",
    "number."
   ]
  },
  {
   "cell_type": "code",
   "execution_count": 48,
   "id": "9083c573-61a8-4208-8c4f-b21c3e82aeac",
   "metadata": {},
   "outputs": [
    {
     "name": "stdin",
     "output_type": "stream",
     "text": [
      " 8\n"
     ]
    }
   ],
   "source": [
    "n=int(input())\n",
    "x=[i for i in range(2,n+1) if i%2==0]"
   ]
  },
  {
   "cell_type": "code",
   "execution_count": 49,
   "id": "3e20a1f5-4bd6-4871-b5f6-eb5a13a09034",
   "metadata": {},
   "outputs": [
    {
     "data": {
      "text/plain": [
       "[2, 4, 6, 8]"
      ]
     },
     "execution_count": 49,
     "metadata": {},
     "output_type": "execute_result"
    }
   ],
   "source": [
    "x"
   ]
  },
  {
   "cell_type": "code",
   "execution_count": null,
   "id": "5e1054e1-2df3-40da-b4bb-127f32bdcef9",
   "metadata": {},
   "outputs": [],
   "source": []
  }
 ],
 "metadata": {
  "kernelspec": {
   "display_name": "Python 3 (ipykernel)",
   "language": "python",
   "name": "python3"
  },
  "language_info": {
   "codemirror_mode": {
    "name": "ipython",
    "version": 3
   },
   "file_extension": ".py",
   "mimetype": "text/x-python",
   "name": "python",
   "nbconvert_exporter": "python",
   "pygments_lexer": "ipython3",
   "version": "3.10.0"
  },
  "toc-autonumbering": false,
  "toc-showcode": true
 },
 "nbformat": 4,
 "nbformat_minor": 5
}
