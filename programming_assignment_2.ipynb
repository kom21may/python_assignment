{
 "cells": [
  {
   "cell_type": "markdown",
   "id": "647d51a3",
   "metadata": {},
   "source": [
    "Write a Python program to convert kilometers to miles?"
   ]
  },
  {
   "cell_type": "code",
   "execution_count": 1,
   "id": "de5e67fc",
   "metadata": {},
   "outputs": [
    {
     "name": "stdout",
     "output_type": "stream",
     "text": [
      "79.98 miles\n"
     ]
    }
   ],
   "source": [
    "km=129\n",
    "print(km*0.62,\"miles\")"
   ]
  },
  {
   "cell_type": "markdown",
   "id": "3a1a5d7d",
   "metadata": {},
   "source": [
    "Write a Python program to convert Celsius to Fahrenheit?"
   ]
  },
  {
   "cell_type": "code",
   "execution_count": 4,
   "id": "a89df81b",
   "metadata": {},
   "outputs": [],
   "source": [
    "c=0\n",
    "f=9/5*c+32"
   ]
  },
  {
   "cell_type": "code",
   "execution_count": 5,
   "id": "d0cc74b2",
   "metadata": {},
   "outputs": [
    {
     "data": {
      "text/plain": [
       "32.0"
      ]
     },
     "execution_count": 5,
     "metadata": {},
     "output_type": "execute_result"
    }
   ],
   "source": [
    "f"
   ]
  },
  {
   "cell_type": "markdown",
   "id": "ce91f18f",
   "metadata": {},
   "source": [
    "Write a Python program to display calendar?"
   ]
  },
  {
   "cell_type": "code",
   "execution_count": 9,
   "id": "039c8281",
   "metadata": {},
   "outputs": [],
   "source": [
    "import calendar"
   ]
  },
  {
   "cell_type": "code",
   "execution_count": 17,
   "id": "b06783ee",
   "metadata": {},
   "outputs": [
    {
     "data": {
      "text/plain": [
       "'                              2022\\n\\n      January               February               March\\nMo Tu We Th Fr Sa Su  Mo Tu We Th Fr Sa Su  Mo Tu We Th Fr Sa Su\\n                1  2      1  2  3  4  5  6      1  2  3  4  5  6\\n 3  4  5  6  7  8  9   7  8  9 10 11 12 13   7  8  9 10 11 12 13\\n10 11 12 13 14 15 16  14 15 16 17 18 19 20  14 15 16 17 18 19 20\\n17 18 19 20 21 22 23  21 22 23 24 25 26 27  21 22 23 24 25 26 27\\n24 25 26 27 28 29 30  28                    28 29 30 31\\n31\\n\\n       April                  May                   June\\nMo Tu We Th Fr Sa Su  Mo Tu We Th Fr Sa Su  Mo Tu We Th Fr Sa Su\\n             1  2  3                     1         1  2  3  4  5\\n 4  5  6  7  8  9 10   2  3  4  5  6  7  8   6  7  8  9 10 11 12\\n11 12 13 14 15 16 17   9 10 11 12 13 14 15  13 14 15 16 17 18 19\\n18 19 20 21 22 23 24  16 17 18 19 20 21 22  20 21 22 23 24 25 26\\n25 26 27 28 29 30     23 24 25 26 27 28 29  27 28 29 30\\n                      30 31\\n\\n        July                 August              September\\nMo Tu We Th Fr Sa Su  Mo Tu We Th Fr Sa Su  Mo Tu We Th Fr Sa Su\\n             1  2  3   1  2  3  4  5  6  7            1  2  3  4\\n 4  5  6  7  8  9 10   8  9 10 11 12 13 14   5  6  7  8  9 10 11\\n11 12 13 14 15 16 17  15 16 17 18 19 20 21  12 13 14 15 16 17 18\\n18 19 20 21 22 23 24  22 23 24 25 26 27 28  19 20 21 22 23 24 25\\n25 26 27 28 29 30 31  29 30 31              26 27 28 29 30\\n\\n      October               November              December\\nMo Tu We Th Fr Sa Su  Mo Tu We Th Fr Sa Su  Mo Tu We Th Fr Sa Su\\n                1  2      1  2  3  4  5  6            1  2  3  4\\n 3  4  5  6  7  8  9   7  8  9 10 11 12 13   5  6  7  8  9 10 11\\n10 11 12 13 14 15 16  14 15 16 17 18 19 20  12 13 14 15 16 17 18\\n17 18 19 20 21 22 23  21 22 23 24 25 26 27  19 20 21 22 23 24 25\\n24 25 26 27 28 29 30  28 29 30              26 27 28 29 30 31\\n31\\n'"
      ]
     },
     "execution_count": 17,
     "metadata": {},
     "output_type": "execute_result"
    }
   ],
   "source": [
    "calendar.calendar(2022,2,1,1)"
   ]
  },
  {
   "cell_type": "markdown",
   "id": "10228b07",
   "metadata": {},
   "source": [
    "Write a Python program to solve quadratic equation?"
   ]
  },
  {
   "cell_type": "code",
   "execution_count": 34,
   "id": "761ccd1f",
   "metadata": {},
   "outputs": [
    {
     "name": "stdout",
     "output_type": "stream",
     "text": [
      "The solution are (-3+0j) and (-2+0j)\n"
     ]
    }
   ],
   "source": [
    "import cmath\n",
    "a=1\n",
    "b=5\n",
    "c=6\n",
    "d=(b*b)-(4*a*c)\n",
    "\n",
    "s1=(-b-cmath.sqrt(d))/(2*a)\n",
    "s2=(-b+cmath.sqrt(d))/(2*a)\n",
    "print('The solution are {0} and {1}'.format(s1,s2))"
   ]
  },
  {
   "cell_type": "markdown",
   "id": "7f5b7fa6",
   "metadata": {},
   "source": [
    "Write a Python program to swap two variables without temp variable?"
   ]
  },
  {
   "cell_type": "code",
   "execution_count": 35,
   "id": "0ccdcae0",
   "metadata": {},
   "outputs": [
    {
     "name": "stdout",
     "output_type": "stream",
     "text": [
      "5 2\n"
     ]
    }
   ],
   "source": [
    "a=2\n",
    "b=5\n",
    "a,b=b,a\n",
    "print(a,b)"
   ]
  },
  {
   "cell_type": "code",
   "execution_count": null,
   "id": "d731ffe4",
   "metadata": {},
   "outputs": [],
   "source": []
  }
 ],
 "metadata": {
  "kernelspec": {
   "display_name": "Python 3 (ipykernel)",
   "language": "python",
   "name": "python3"
  },
  "language_info": {
   "codemirror_mode": {
    "name": "ipython",
    "version": 3
   },
   "file_extension": ".py",
   "mimetype": "text/x-python",
   "name": "python",
   "nbconvert_exporter": "python",
   "pygments_lexer": "ipython3",
   "version": "3.9.12"
  }
 },
 "nbformat": 4,
 "nbformat_minor": 5
}
