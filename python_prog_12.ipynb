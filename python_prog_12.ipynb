{
 "cells": [
  {
   "cell_type": "code",
   "execution_count": 1,
   "id": "61096b7f-ead9-43a5-b034-c1beeb62f035",
   "metadata": {},
   "outputs": [],
   "source": [
    "#Write a Python program to Extract Unique values dictionary values?"
   ]
  },
  {
   "cell_type": "code",
   "execution_count": 43,
   "id": "bb706e4c-1db4-4c49-a2ba-38cd26fd634c",
   "metadata": {},
   "outputs": [],
   "source": [
    "def task1(di):\n",
    "    x=[]\n",
    "    for i in di.values():\n",
    "        for j in i:\n",
    "            x.append(j)\n",
    "    x_new=list(set(x))\n",
    "    return x_new"
   ]
  },
  {
   "cell_type": "code",
   "execution_count": 44,
   "id": "68fa63ce-c5cc-41c6-8ae9-eda6f839dd90",
   "metadata": {},
   "outputs": [
    {
     "data": {
      "text/plain": [
       "[1, 2, 3, 4, 5, 6, 8]"
      ]
     },
     "execution_count": 44,
     "metadata": {},
     "output_type": "execute_result"
    }
   ],
   "source": [
    "task1({'k':[3,4,5,6],'o':[8,1,2,3],'m':[8,2,3]})"
   ]
  },
  {
   "cell_type": "code",
   "execution_count": 36,
   "id": "bbb0d520-03c5-4cb8-8f2c-344f3b945876",
   "metadata": {},
   "outputs": [],
   "source": [
    "# Write a Python program to find the sum of all items in a dictionary?"
   ]
  },
  {
   "cell_type": "code",
   "execution_count": 46,
   "id": "8c6c79e2-9aec-4d30-9567-254fe92823ec",
   "metadata": {},
   "outputs": [],
   "source": [
    "def task2(di):\n",
    "    x=0\n",
    "    for i in di.values():\n",
    "        for j in i:\n",
    "            x=x+j\n",
    "    return x"
   ]
  },
  {
   "cell_type": "code",
   "execution_count": 47,
   "id": "7a0c92c4-dbda-4e03-ba8f-e347cc23d5a0",
   "metadata": {},
   "outputs": [
    {
     "data": {
      "text/plain": [
       "45"
      ]
     },
     "execution_count": 47,
     "metadata": {},
     "output_type": "execute_result"
    }
   ],
   "source": [
    "task2({'k':[3,4,5,6],'o':[8,1,2,3],'m':[8,2,3]})"
   ]
  },
  {
   "cell_type": "code",
   "execution_count": null,
   "id": "a6f49c6b-c981-445e-a1c9-1a9f82d7c5ad",
   "metadata": {},
   "outputs": [],
   "source": [
    "#Write a Python program to Merging two Dictionaries?\n",
    "def task3(d1,d2):\n",
    "    "
   ]
  },
  {
   "cell_type": "code",
   "execution_count": 55,
   "id": "a65af57f-80da-4810-9b9c-0e69461df861",
   "metadata": {},
   "outputs": [
    {
     "data": {
      "text/plain": [
       "['k', 'o', 'm', 'i', 'j', 'n|']"
      ]
     },
     "execution_count": 55,
     "metadata": {},
     "output_type": "execute_result"
    }
   ],
   "source": [
    "d1={'k':[3,4,5,6],'o':[8,1,2,3],'m':[8,2,3]}\n",
    "d2={'i':[3,4,5,6],'j':[8,1,2,3],'n':[8,2,3]}\n",
    "l1=list(d1.keys())\n",
    "l2=list(d2.keys())\n",
    "v1=list(d1.values())\n",
    "v2=list(d2.values())\n",
    "l3=l1+l2\n",
    "v3=v1+v2\n",
    "l3"
   ]
  },
  {
   "cell_type": "code",
   "execution_count": 56,
   "id": "b8b46be1-04e4-4fd0-819f-658d76e797db",
   "metadata": {},
   "outputs": [
    {
     "data": {
      "text/plain": [
       "[[3, 4, 5, 6], [8, 1, 2, 3], [8, 2, 3], [3, 4, 5, 6], [8, 1, 2, 3], [8, 2, 3]]"
      ]
     },
     "execution_count": 56,
     "metadata": {},
     "output_type": "execute_result"
    }
   ],
   "source": [
    "v3"
   ]
  },
  {
   "cell_type": "code",
   "execution_count": 57,
   "id": "abb7f486-da50-4ede-8bc6-69536231a36e",
   "metadata": {},
   "outputs": [
    {
     "data": {
      "text/plain": [
       "{'k': [3, 4, 5, 6],\n",
       " 'o': [8, 1, 2, 3],\n",
       " 'm': [8, 2, 3],\n",
       " 'i': [3, 4, 5, 6],\n",
       " 'j': [8, 1, 2, 3],\n",
       " 'n|': [8, 2, 3]}"
      ]
     },
     "execution_count": 57,
     "metadata": {},
     "output_type": "execute_result"
    }
   ],
   "source": [
    "dict(zip(l3,v3))"
   ]
  },
  {
   "cell_type": "code",
   "execution_count": 60,
   "id": "f57d64a4-46c8-474e-9139-e6421976f76f",
   "metadata": {},
   "outputs": [
    {
     "data": {
      "text/plain": [
       "{'k': [8, 1, 2, 3], 'o': [8, 2, 3], 'm': [8, 2, 3], 'i': [3, 4, 5, 6]}"
      ]
     },
     "execution_count": 60,
     "metadata": {},
     "output_type": "execute_result"
    }
   ],
   "source": [
    "#or\n",
    "def Merge(d1,d2):\n",
    "    d1.update(d2)\n",
    "    return d1\n",
    "\n",
    "Merge({'k':[3,4,5,6],'o':[8,1,2,3],'m':[8,2,3]},{'i':[3,4,5,6],'k':[8,1,2,3],'o':[8,2,3]})"
   ]
  },
  {
   "cell_type": "code",
   "execution_count": 62,
   "id": "f2da7cb1-5f24-4ecc-a40c-d3328b09a21c",
   "metadata": {},
   "outputs": [],
   "source": [
    "#Write a Python program to convert key-values list to flat dictionary?\n",
    "di={'k':[3,4,5,6],'o':[8,1,2,3]}\n",
    "flat_dict=dict(zip(di['k'],di['o']))"
   ]
  },
  {
   "cell_type": "code",
   "execution_count": 63,
   "id": "141f25ab-2b38-45bb-8146-bece07401cc7",
   "metadata": {},
   "outputs": [
    {
     "data": {
      "text/plain": [
       "{3: 8, 4: 1, 5: 2, 6: 3}"
      ]
     },
     "execution_count": 63,
     "metadata": {},
     "output_type": "execute_result"
    }
   ],
   "source": [
    "flat_dict"
   ]
  },
  {
   "cell_type": "code",
   "execution_count": 65,
   "id": "9553f7e1-5671-4705-98a3-2ef0120b7ec3",
   "metadata": {},
   "outputs": [
    {
     "name": "stdout",
     "output_type": "stream",
     "text": [
      "Resultant Dictionary :OrderedDict([('manjeet', '4'), ('akash', '4'), ('akshat', '1'), ('nikhil', '2')])\n"
     ]
    }
   ],
   "source": [
    "#Write a Python program to insertion at the beginning in OrderedDict?\n",
    "from collections import OrderedDict\n",
    " \n",
    "ini_dict1 = OrderedDict([('akshat', '1'), ('nikhil', '2')])\n",
    "ini_dict2 = OrderedDict([(\"manjeet\", '4'), (\"akash\", '4')])\n",
    " \n",
    "both = OrderedDict(list(ini_dict2.items()) + list(ini_dict1.items()))\n",
    " \n",
    "print (\"Resultant Dictionary :\"+str(both))"
   ]
  },
  {
   "cell_type": "code",
   "execution_count": 66,
   "id": "9dfb085f-b4c4-4b9e-a5bf-509da0be026b",
   "metadata": {},
   "outputs": [],
   "source": [
    "#Write a Python program to check order of character in string using OrderedDict()?"
   ]
  },
  {
   "cell_type": "code",
   "execution_count": 70,
   "id": "1fdd3827-896c-4308-a6cb-67a02da90402",
   "metadata": {},
   "outputs": [
    {
     "data": {
      "text/plain": [
       "'true'"
      ]
     },
     "execution_count": 70,
     "metadata": {},
     "output_type": "execute_result"
    }
   ],
   "source": [
    "from collections import OrderedDict \n",
    "  \n",
    "def checkOrder(input, pattern):  \n",
    "    dict = OrderedDict.fromkeys(input) s\n",
    "  \n",
    "    # traverse generated OrderedDict parallel with \n",
    "    # pat\n",
    "    ptrlen = 0\n",
    "    for key,value in dict.items(): \n",
    "        if (key == pattern[ptrlen]): \n",
    "            ptrlen = ptrlen + 1\n",
    "          \n",
    "        # check if we have traverse complete \n",
    "        # pattern string \n",
    "        if (ptrlen == (len(pattern))): \n",
    "            return 'true'\n",
    "  \n",
    "    # if we come out from for loop that means \n",
    "    # order was mismatched \n",
    "    return 'false'\n",
    "checkOrder('engineer is the best','es')"
   ]
  },
  {
   "cell_type": "code",
   "execution_count": 67,
   "id": "dae8488b-fa59-4f35-8879-0a93d786973f",
   "metadata": {},
   "outputs": [],
   "source": [
    "#Write a Python program to sort Python Dictionaries by Key or Value?"
   ]
  },
  {
   "cell_type": "code",
   "execution_count": 81,
   "id": "90829190-dfa9-43bc-8921-8b9bec3fd3e1",
   "metadata": {},
   "outputs": [
    {
     "name": "stdout",
     "output_type": "stream",
     "text": [
      "('i', [3, 4, 5, 6]) ('k', [8, 1, 2, 3]) ('m', [8, 2, 3]) ('n', [8, 2, 3]) ('o', [8, 1, 2, 3]) "
     ]
    }
   ],
   "source": [
    "d={'k':[3,4,5,6],'o':[8,1,2,3],'m':[8,2,3],'i':[3,4,5,6],'k':[8,1,2,3],'n':[8,2,3]}\n",
    "for i in sorted(d):\n",
    "    print((i,d[i]),end=' ')"
   ]
  },
  {
   "cell_type": "code",
   "execution_count": null,
   "id": "f61a9c1a-9308-43b1-9d29-c478652d4535",
   "metadata": {},
   "outputs": [],
   "source": []
  },
  {
   "cell_type": "code",
   "execution_count": null,
   "id": "0154b915-d820-45fb-a6a2-9685df884075",
   "metadata": {},
   "outputs": [],
   "source": []
  },
  {
   "cell_type": "code",
   "execution_count": null,
   "id": "7dca8edb-283c-43e6-a95e-a73db035947f",
   "metadata": {},
   "outputs": [],
   "source": []
  }
 ],
 "metadata": {
  "kernelspec": {
   "display_name": "Python 3 (ipykernel)",
   "language": "python",
   "name": "python3"
  },
  "language_info": {
   "codemirror_mode": {
    "name": "ipython",
    "version": 3
   },
   "file_extension": ".py",
   "mimetype": "text/x-python",
   "name": "python",
   "nbconvert_exporter": "python",
   "pygments_lexer": "ipython3",
   "version": "3.10.0"
  }
 },
 "nbformat": 4,
 "nbformat_minor": 5
}
