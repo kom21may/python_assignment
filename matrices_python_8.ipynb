{
 "cells": [
  {
   "cell_type": "code",
   "execution_count": 9,
   "id": "27b6618b",
   "metadata": {},
   "outputs": [
    {
     "name": "stdout",
     "output_type": "stream",
     "text": [
      "[[10  6]\n",
      " [ 5 14]]\n"
     ]
    }
   ],
   "source": [
    "#Write a Python Program to Add Two Matrices?\n",
    "import numpy as np\n",
    "res=np.zeros([2,2],dtype=int)\n",
    "a=[[2,3],[4,5]]\n",
    "b=[[8,3],[1,9]]\n",
    "for i in range(len(a)):\n",
    "    for j in range(len(a[0])):\n",
    "        res[i][j]=b[i][j]+a[i][j]\n",
    "print(res)"
   ]
  },
  {
   "cell_type": "code",
   "execution_count": 10,
   "id": "eb3c0cc6",
   "metadata": {},
   "outputs": [
    {
     "name": "stdout",
     "output_type": "stream",
     "text": [
      "[10  6]\n",
      "[ 5 14]\n"
     ]
    }
   ],
   "source": [
    "for i in res:\n",
    "    print(i)"
   ]
  },
  {
   "cell_type": "code",
   "execution_count": 11,
   "id": "aaa74be2",
   "metadata": {},
   "outputs": [
    {
     "name": "stdout",
     "output_type": "stream",
     "text": [
      "[[16  9]\n",
      " [ 4 45]]\n"
     ]
    }
   ],
   "source": [
    "#Write a Python Program to Multiply Two Matrices?\n",
    "a=[[2,3],[4,5]]\n",
    "b=[[8,3],[1,9]]\n",
    "mul=np.zeros([2,2],dtype=int)\n",
    "for i in range(len(a)):\n",
    "    for j in range(len(a[0])):\n",
    "        mul[i][j]=b[i][j]*a[i][j]\n",
    "print(mul)"
   ]
  },
  {
   "cell_type": "code",
   "execution_count": 13,
   "id": "886a823b",
   "metadata": {},
   "outputs": [
    {
     "name": "stdout",
     "output_type": "stream",
     "text": [
      "[[2 4]\n",
      " [3 5]]\n"
     ]
    }
   ],
   "source": [
    "#Write a Python Program to Transpose a Matrix?\n",
    "trans_mat=np.zeros([2,2],dtype=int)\n",
    "a=[[2,3],[4,5]]\n",
    "for i in range(len(a)):\n",
    "    for j in range(len(a[0])):\n",
    "        trans_mat[i][j]=a[j][i]\n",
    "print(trans_mat)\n"
   ]
  },
  {
   "cell_type": "code",
   "execution_count": 14,
   "id": "41b23757",
   "metadata": {},
   "outputs": [
    {
     "name": "stdout",
     "output_type": "stream",
     "text": [
      "komal is best\n",
      "['best', 'is', 'komal']\n"
     ]
    }
   ],
   "source": [
    "#Write a Python Program to Sort Words in Alphabetic Order?\n",
    "s=input()\n",
    "for i in range(len(s)):\n",
    "    w=s.split()\n",
    "w.sort()\n",
    "print(w)\n"
   ]
  },
  {
   "cell_type": "code",
   "execution_count": 5,
   "id": "d9ce17de",
   "metadata": {},
   "outputs": [
    {
     "name": "stdout",
     "output_type": "stream",
     "text": [
      "komal is@#% nice and *humble\n"
     ]
    }
   ],
   "source": [
    "#Write a Python Program to Remove Punctuation From a String?\n",
    "import re\n",
    "s=input()\n",
    "res=re.sub(r'[^\\w\\s]','',s)\n"
   ]
  },
  {
   "cell_type": "code",
   "execution_count": 6,
   "id": "46c61b04",
   "metadata": {},
   "outputs": [
    {
     "name": "stdout",
     "output_type": "stream",
     "text": [
      "komal is nice and humble\n"
     ]
    }
   ],
   "source": [
    "print(res)"
   ]
  },
  {
   "cell_type": "code",
   "execution_count": null,
   "id": "1435417f",
   "metadata": {},
   "outputs": [],
   "source": []
  }
 ],
 "metadata": {
  "kernelspec": {
   "display_name": "Python 3 (ipykernel)",
   "language": "python",
   "name": "python3"
  },
  "language_info": {
   "codemirror_mode": {
    "name": "ipython",
    "version": 3
   },
   "file_extension": ".py",
   "mimetype": "text/x-python",
   "name": "python",
   "nbconvert_exporter": "python",
   "pygments_lexer": "ipython3",
   "version": "3.9.12"
  }
 },
 "nbformat": 4,
 "nbformat_minor": 5
}
