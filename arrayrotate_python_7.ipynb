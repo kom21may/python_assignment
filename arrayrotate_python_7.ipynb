{
 "cells": [
  {
   "cell_type": "code",
   "execution_count": 1,
   "id": "4f2ed4b7",
   "metadata": {},
   "outputs": [],
   "source": [
    "#Write a Python Program to find sum of array?\n",
    "\n",
    "def sumarray(l):\n",
    "    sum=0\n",
    "    for i in l:\n",
    "        sum=sum+i\n",
    "    return sum"
   ]
  },
  {
   "cell_type": "code",
   "execution_count": 2,
   "id": "66ebf814",
   "metadata": {},
   "outputs": [
    {
     "data": {
      "text/plain": [
       "20"
      ]
     },
     "execution_count": 2,
     "metadata": {},
     "output_type": "execute_result"
    }
   ],
   "source": [
    "sumarray({2,3,4,5,6})"
   ]
  },
  {
   "cell_type": "code",
   "execution_count": 3,
   "id": "f0ebd1f1",
   "metadata": {},
   "outputs": [],
   "source": [
    "#Write a Python Program to find largest element in an array?\n",
    "def maxarray(a):\n",
    "    max=0\n",
    "    for i in a:\n",
    "        if i>max:\n",
    "            max=i\n",
    "    return max\n",
    "\n"
   ]
  },
  {
   "cell_type": "code",
   "execution_count": 5,
   "id": "a73b9247",
   "metadata": {},
   "outputs": [
    {
     "data": {
      "text/plain": [
       "6"
      ]
     },
     "execution_count": 5,
     "metadata": {},
     "output_type": "execute_result"
    }
   ],
   "source": [
    "maxarray({2,3,4,5,6})"
   ]
  },
  {
   "cell_type": "code",
   "execution_count": 6,
   "id": "7edccb71",
   "metadata": {},
   "outputs": [],
   "source": [
    "#Write a Python Program for array rotation?\n",
    "def leftrotate(arr,d,n):#rotate arr y 2 element i.e d and n is the size of an array\n",
    "    arr[:]=arr[d:n]+arr[0:d]\n",
    "    return arr"
   ]
  },
  {
   "cell_type": "code",
   "execution_count": 7,
   "id": "1b15f5c9",
   "metadata": {},
   "outputs": [
    {
     "data": {
      "text/plain": [
       "[3, 4, 5, 6, 1, 2]"
      ]
     },
     "execution_count": 7,
     "metadata": {},
     "output_type": "execute_result"
    }
   ],
   "source": [
    "leftrotate([1,2,3,4,5,6],2,6)"
   ]
  },
  {
   "cell_type": "code",
   "execution_count": 10,
   "id": "658e47ea",
   "metadata": {},
   "outputs": [],
   "source": [
    "#Write a Python Program to Split the array and add the first part to the end?\n",
    "def splitarr(arr,d,n):\n",
    "    for i in range(0,d):\n",
    "        x=arr[0]\n",
    "        for j in range(0,n-1):\n",
    "            arr[j]=arr[j+1]\n",
    "        arr[n-1]=x\n",
    "    return arr"
   ]
  },
  {
   "cell_type": "code",
   "execution_count": 11,
   "id": "695a4e16",
   "metadata": {},
   "outputs": [
    {
     "data": {
      "text/plain": [
       "[97, 32, 12, 2, 3, 18]"
      ]
     },
     "execution_count": 11,
     "metadata": {},
     "output_type": "execute_result"
    }
   ],
   "source": [
    "splitarr([2,3,18,97,32,12],3,6)"
   ]
  },
  {
   "cell_type": "code",
   "execution_count": 20,
   "id": "4f06ed44",
   "metadata": {},
   "outputs": [],
   "source": [
    "#Write a Python Program to check if given array is Monotonic?\n",
    "#an array is monotonic if it is monotonic increasing or monotonic decrasing\n",
    "\n",
    "def monarray(arr):\n",
    "    x,y=[],[]\n",
    "    x=arr\n",
    "    #or x.extend(arr)\n",
    "    y.extend(arr)\n",
    "    x.sort()\n",
    "    y.sort(reverse=True)\n",
    "    print(x)\n",
    "    if(x==arr or y==arr):\n",
    "        return True\n",
    "    return False\n",
    "    "
   ]
  },
  {
   "cell_type": "code",
   "execution_count": 21,
   "id": "72738f9a",
   "metadata": {},
   "outputs": [
    {
     "name": "stdout",
     "output_type": "stream",
     "text": [
      "[4, 5, 7, 9]\n"
     ]
    },
    {
     "data": {
      "text/plain": [
       "True"
      ]
     },
     "execution_count": 21,
     "metadata": {},
     "output_type": "execute_result"
    }
   ],
   "source": [
    "monarray([4,5,7,9])"
   ]
  },
  {
   "cell_type": "code",
   "execution_count": null,
   "id": "c5e9ac22",
   "metadata": {},
   "outputs": [],
   "source": []
  }
 ],
 "metadata": {
  "kernelspec": {
   "display_name": "Python 3 (ipykernel)",
   "language": "python",
   "name": "python3"
  },
  "language_info": {
   "codemirror_mode": {
    "name": "ipython",
    "version": 3
   },
   "file_extension": ".py",
   "mimetype": "text/x-python",
   "name": "python",
   "nbconvert_exporter": "python",
   "pygments_lexer": "ipython3",
   "version": "3.9.12"
  }
 },
 "nbformat": 4,
 "nbformat_minor": 5
}
