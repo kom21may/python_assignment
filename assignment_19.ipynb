{
 "cells": [
  {
   "cell_type": "markdown",
   "id": "9f3f7f8b",
   "metadata": {},
   "source": [
    "Make a class called Thing with no contents and print it. Then, create an object called example\n",
    "from this class and also print it. Are the printed values the same or different?"
   ]
  },
  {
   "cell_type": "code",
   "execution_count": 1,
   "id": "339fc1b3",
   "metadata": {},
   "outputs": [
    {
     "name": "stdout",
     "output_type": "stream",
     "text": [
      "<class '__main__.Thing'>\n",
      "<__main__.Thing object at 0x000002655F4FF160>\n"
     ]
    }
   ],
   "source": [
    "class Thing:\n",
    "    pass\n",
    "print(Thing)\n",
    "example=Thing()\n",
    "print(example)"
   ]
  },
  {
   "cell_type": "markdown",
   "id": "1977d20d",
   "metadata": {},
   "source": [
    "Create a new class called Thing2 and add the value &#39;abc&#39; to the letters class attribute. Letters\n",
    "should be printed."
   ]
  },
  {
   "cell_type": "code",
   "execution_count": 4,
   "id": "73a08299",
   "metadata": {},
   "outputs": [
    {
     "name": "stdout",
     "output_type": "stream",
     "text": [
      "abc\n"
     ]
    }
   ],
   "source": [
    "class Thing2:\n",
    "    letters='abc'\n",
    "print(Thing2.letters)"
   ]
  },
  {
   "cell_type": "markdown",
   "id": "0b549c57",
   "metadata": {},
   "source": [
    "Make yet another class called, of course, Thing3. This time, assign the value &#39;xyz&#39; to an instance\n",
    "(object) attribute called letters. Print letters. Do you need to make an object from the class to do\n",
    "this?"
   ]
  },
  {
   "cell_type": "code",
   "execution_count": 14,
   "id": "2bc516bf",
   "metadata": {},
   "outputs": [],
   "source": [
    "class Thing3:\n",
    "    def __init__(self):\n",
    "        self.letters='xyz'\n"
   ]
  },
  {
   "cell_type": "code",
   "execution_count": 15,
   "id": "e8d3b7ad",
   "metadata": {},
   "outputs": [
    {
     "ename": "AttributeError",
     "evalue": "type object 'Thing3' has no attribute 'letters'",
     "output_type": "error",
     "traceback": [
      "\u001b[1;31m---------------------------------------------------------------------------\u001b[0m",
      "\u001b[1;31mAttributeError\u001b[0m                            Traceback (most recent call last)",
      "Input \u001b[1;32mIn [15]\u001b[0m, in \u001b[0;36m<cell line: 1>\u001b[1;34m()\u001b[0m\n\u001b[1;32m----> 1\u001b[0m \u001b[38;5;28mprint\u001b[39m(\u001b[43mThing3\u001b[49m\u001b[38;5;241;43m.\u001b[39;49m\u001b[43mletters\u001b[49m)\n",
      "\u001b[1;31mAttributeError\u001b[0m: type object 'Thing3' has no attribute 'letters'"
     ]
    }
   ],
   "source": [
    "print(Thing3.letters)"
   ]
  },
  {
   "cell_type": "code",
   "execution_count": 16,
   "id": "5f0ec689",
   "metadata": {},
   "outputs": [
    {
     "name": "stdout",
     "output_type": "stream",
     "text": [
      "xyz\n"
     ]
    }
   ],
   "source": [
    "exm=Thing3()\n",
    "print(exm.letters)#now this object attribute has letters not with Thing3 has."
   ]
  },
  {
   "cell_type": "markdown",
   "id": "45a4eae3",
   "metadata": {},
   "source": [
    "Create an Element class with the instance attributes name, symbol, and number. Create a class\n",
    "object with the values &#39;Hydrogen,&#39; &#39;H,&#39; and 1."
   ]
  },
  {
   "cell_type": "code",
   "execution_count": 33,
   "id": "2c74866e",
   "metadata": {},
   "outputs": [],
   "source": [
    "class element:\n",
    "    def __init__(self,name,symbol,number):\n",
    "        self.name=name\n",
    "        self.symbol=symbol\n",
    "        self.number=number\n",
    "obj=element('Hydrogen','H',1)"
   ]
  },
  {
   "cell_type": "markdown",
   "id": "6f4c58dc",
   "metadata": {},
   "source": [
    "Make a dictionary with these keys and values: &#39;name&#39;: &#39;Hydrogen&#39;, &#39;symbol&#39;: &#39;H&#39;, &#39;number&#39;: 1. Then,\n",
    "create an object called hydrogen from class Element using this dictionary."
   ]
  },
  {
   "cell_type": "code",
   "execution_count": 28,
   "id": "ce65fa03",
   "metadata": {},
   "outputs": [],
   "source": [
    "dic={'name': 'Hydrogen', 'symbol': 'H', 'number': 1}\n",
    "exm=element(dic['name'],dic['symbol'],dic['number'])"
   ]
  },
  {
   "cell_type": "code",
   "execution_count": 29,
   "id": "d351c94a",
   "metadata": {},
   "outputs": [
    {
     "data": {
      "text/plain": [
       "'Hydrogen'"
      ]
     },
     "execution_count": 29,
     "metadata": {},
     "output_type": "execute_result"
    }
   ],
   "source": [
    "exm.name"
   ]
  },
  {
   "cell_type": "code",
   "execution_count": 35,
   "id": "3d751e59",
   "metadata": {},
   "outputs": [
    {
     "data": {
      "text/plain": [
       "1"
      ]
     },
     "execution_count": 35,
     "metadata": {},
     "output_type": "execute_result"
    }
   ],
   "source": [
    "exm2=element(**dic)\n",
    "exm2.number"
   ]
  },
  {
   "cell_type": "markdown",
   "id": "9947c521",
   "metadata": {},
   "source": [
    "For the Element class, define a method called dump() that prints the values of the object’s\n",
    "attributes (name, symbol, and number). Create the hydrogen object from this new definition and\n",
    "use dump() to print its attributes."
   ]
  },
  {
   "cell_type": "code",
   "execution_count": 30,
   "id": "464eeb3e",
   "metadata": {},
   "outputs": [
    {
     "name": "stdout",
     "output_type": "stream",
     "text": [
      "Hydrogen   H   1\n"
     ]
    }
   ],
   "source": [
    "class element:\n",
    "    def dump(self):\n",
    "        print(self.name,\" \",self.symbol,\" \",self.number)\n",
    "    \n",
    "    def __init__(self,name,symbol,num):\n",
    "        self.name=name\n",
    "        self.symbol=symbol\n",
    "        self.number=num\n",
    "obj=element('Hydrogen','H',1)\n",
    "obj.dump()"
   ]
  },
  {
   "cell_type": "markdown",
   "id": "93911814",
   "metadata": {},
   "source": [
    "Call print(hydrogen). In the definition of Element, change the name of method dump to __str__,\n",
    "create a new hydrogen object, and call print(hydrogen) again."
   ]
  },
  {
   "cell_type": "code",
   "execution_count": 38,
   "id": "44c13d2b",
   "metadata": {},
   "outputs": [
    {
     "name": "stdout",
     "output_type": "stream",
     "text": [
      "name=Hydrogen, symbol=H, number=1\n"
     ]
    }
   ],
   "source": [
    "class element:\n",
    "    def __str__(self):\n",
    "        return ('name=%s, symbol=%s, number=%s' %(self.name, self.symbol, self.number))\n",
    "    \n",
    "    def __init__(self,name,symbol,number):\n",
    "        self.name=name\n",
    "        self.symbol=symbol\n",
    "        self.number=number\n",
    "        \n",
    "hydrogen=element(**dic)\n",
    "print(hydrogen)"
   ]
  },
  {
   "cell_type": "markdown",
   "id": "2735f9a0",
   "metadata": {},
   "source": [
    "Modify Element to make the attributes name, symbol, and number private. Define a getter\n",
    "property for each to return its value."
   ]
  },
  {
   "cell_type": "code",
   "execution_count": 42,
   "id": "9ed5531e",
   "metadata": {},
   "outputs": [
    {
     "name": "stdout",
     "output_type": "stream",
     "text": [
      "<__main__.element object at 0x000002655FEA6520>\n"
     ]
    }
   ],
   "source": [
    "class element:\n",
    "    def __init__(self,name,symbol,number):\n",
    "        self.__name=name\n",
    "        self.__symbol=symbol\n",
    "        self.__number=number\n",
    "    @property#to avoid formal getter and setter\n",
    "    def name(self):\n",
    "        return self.__name\n",
    "    @property#to avoid formal getter and setter\n",
    "    def symbol(self):\n",
    "        return self.__symbol\n",
    "    @property#to avoid formal getter and setter\n",
    "    def number(self):\n",
    "        return self.__number\n",
    "\n",
    "    \n",
    "hydrogen=element('Hydrogen','H',1)\n",
    "print(hydrogen)"
   ]
  },
  {
   "cell_type": "code",
   "execution_count": 49,
   "id": "8d48f49c",
   "metadata": {},
   "outputs": [
    {
     "data": {
      "text/plain": [
       "'Hydrogen'"
      ]
     },
     "execution_count": 49,
     "metadata": {},
     "output_type": "execute_result"
    }
   ],
   "source": [
    "hydrogen.name"
   ]
  },
  {
   "cell_type": "markdown",
   "id": "65964c10",
   "metadata": {},
   "source": [
    "Define three classes: Bear, Rabbit, and Octothorpe. For each, define only one method: eats(). This\n",
    "should return &#39;berries&#39; (Bear), &#39;clover&#39; (Rabbit), or &#39;campers&#39; (Octothorpe). Create one object from\n",
    "each and print what it eats."
   ]
  },
  {
   "cell_type": "code",
   "execution_count": 52,
   "id": "158c70b9",
   "metadata": {},
   "outputs": [
    {
     "data": {
      "text/plain": [
       "'berries'"
      ]
     },
     "execution_count": 52,
     "metadata": {},
     "output_type": "execute_result"
    }
   ],
   "source": [
    "class bear:\n",
    "    def eat(self):\n",
    "        return 'berries'\n",
    "bear_object=bear()\n",
    "bear_object.eat()\n"
   ]
  },
  {
   "cell_type": "code",
   "execution_count": 54,
   "id": "1060d07b",
   "metadata": {},
   "outputs": [
    {
     "data": {
      "text/plain": [
       "'clover'"
      ]
     },
     "execution_count": 54,
     "metadata": {},
     "output_type": "execute_result"
    }
   ],
   "source": [
    "class rabit:\n",
    "    def eat(self):\n",
    "        return 'clover'\n",
    "rabit_object=rabit()\n",
    "rabit_object.eat()\n"
   ]
  },
  {
   "cell_type": "code",
   "execution_count": 55,
   "id": "d5f0332d",
   "metadata": {},
   "outputs": [
    {
     "data": {
      "text/plain": [
       "'campers'"
      ]
     },
     "execution_count": 55,
     "metadata": {},
     "output_type": "execute_result"
    }
   ],
   "source": [
    "class octo:\n",
    "    def eat(self):\n",
    "        return 'campers'\n",
    "octo_object=octo()\n",
    "octo_object.eat()\n"
   ]
  },
  {
   "cell_type": "markdown",
   "id": "ab7180d7",
   "metadata": {},
   "source": [
    "Define these classes: Laser, Claw, and SmartPhone. Each has only one method: does(). This\n",
    "returns &#39;disintegrate&#39; (Laser), &#39;crush&#39; (Claw), or &#39;ring&#39; (SmartPhone). Then, define the class Robot that\n",
    "has one instance (object) of each of these. Define a does() method for the Robot that prints what its\n",
    "component objects do."
   ]
  },
  {
   "cell_type": "code",
   "execution_count": 65,
   "id": "0f4ccd41",
   "metadata": {},
   "outputs": [],
   "source": [
    "class laser:\n",
    "    def does(self):\n",
    "        return 'disintegrate'\n",
    "class claw:\n",
    "    def does(self):\n",
    "        return 'crush'\n",
    "class smartphone:\n",
    "    def does(self):\n",
    "        return 'ring'\n",
    "class root:\n",
    "    def __init__(self):\n",
    "        self.__laser=laser()\n",
    "        self.__claw=claw()\n",
    "        self.__smartphone=smartphone()\n",
    "    def does(self):\n",
    "        print('laser= {} claw= {} smartphone= {}'.format(self.__laser.does(),self.__claw.does(),self.__smartphone.does()))\n",
    "\n",
    "\n"
   ]
  },
  {
   "cell_type": "code",
   "execution_count": 66,
   "id": "1216458c",
   "metadata": {},
   "outputs": [],
   "source": [
    "exm=root()"
   ]
  },
  {
   "cell_type": "code",
   "execution_count": 67,
   "id": "70653d6f",
   "metadata": {},
   "outputs": [
    {
     "name": "stdout",
     "output_type": "stream",
     "text": [
      "laser= disintegrate claw= crush smartphone= ring\n"
     ]
    }
   ],
   "source": [
    "exm.does()"
   ]
  },
  {
   "cell_type": "code",
   "execution_count": null,
   "id": "dc3dda37",
   "metadata": {},
   "outputs": [],
   "source": []
  }
 ],
 "metadata": {
  "kernelspec": {
   "display_name": "Python 3 (ipykernel)",
   "language": "python",
   "name": "python3"
  },
  "language_info": {
   "codemirror_mode": {
    "name": "ipython",
    "version": 3
   },
   "file_extension": ".py",
   "mimetype": "text/x-python",
   "name": "python",
   "nbconvert_exporter": "python",
   "pygments_lexer": "ipython3",
   "version": "3.9.12"
  }
 },
 "nbformat": 4,
 "nbformat_minor": 5
}
