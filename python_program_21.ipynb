{
 "cells": [
  {
   "cell_type": "code",
   "execution_count": 1,
   "id": "7bceb8cc-4a6d-4fc4-b0fc-4cc923010e7c",
   "metadata": {},
   "outputs": [],
   "source": [
    "# Question1\n",
    "# Write a function that takes a list and a number as arguments. Add the number to the end of\n",
    "# the list, then remove the first element of the list. The function should then return the updated\n",
    "# list.\n",
    "# Examples\n",
    "# next_in_line([5, 6, 7, 8, 9], 1) ➞ [6, 7, 8, 9, 1]\n",
    "# next_in_line([7, 6, 3, 23, 17], 10) ➞ [6, 3, 23, 17, 10]\n",
    "# next_in_line([1, 10, 20, 42 ], 6) ➞ [10, 20, 42, 6]\n",
    "# next_in_line([], 6) ➞ &quot;No list has been selected&quot;"
   ]
  },
  {
   "cell_type": "code",
   "execution_count": 7,
   "id": "d7bc8268-9ec8-40fb-8b5a-bb6fc837f286",
   "metadata": {},
   "outputs": [
    {
     "data": {
      "text/plain": [
       "[6, 7, 8, 9, 1]"
      ]
     },
     "execution_count": 7,
     "metadata": {},
     "output_type": "execute_result"
    }
   ],
   "source": [
    "def next_in_line(lis,ele):\n",
    "    lis.remove(lis[0])\n",
    "    lis.append(ele)\n",
    "    return lis\n",
    "next_in_line([5, 6, 7, 8, 9], 1)"
   ]
  },
  {
   "cell_type": "code",
   "execution_count": null,
   "id": "70003e13-b073-44d4-9cba-6aff8248ccd4",
   "metadata": {},
   "outputs": [],
   "source": []
  },
  {
   "cell_type": "code",
   "execution_count": null,
   "id": "4cb75970-5f35-475f-b83a-27cefd4bd64e",
   "metadata": {},
   "outputs": [],
   "source": []
  },
  {
   "cell_type": "code",
   "execution_count": 2,
   "id": "50cd6333-2904-4f40-bd9c-b5c9dd6ada78",
   "metadata": {},
   "outputs": [],
   "source": [
    "\n",
    "# Question2\n",
    "# Create the function that takes a list of dictionaries and returns the sum of people&#39;s budgets.\n",
    "# Examples\n",
    "# get_budgets([\n",
    "# { &quot;name&quot;: &quot;John&quot;, &quot;age&quot;: 21, &quot;budget&quot;: 23000 },\n",
    "# { &quot;name&quot;: &quot;Steve&quot;, &quot;age&quot;: 32, &quot;budget&quot;: 40000 },\n",
    "# { &quot;name&quot;: &quot;Martin&quot;, &quot;age&quot;: 16, &quot;budget&quot;: 2700 }\n",
    "# ]) ➞ 65700\n",
    "# get_budgets([\n",
    "# { &quot;name&quot;: &quot;John&quot;, &quot;age&quot;: 21, &quot;budget&quot;: 29000 },\n",
    "# { &quot;name&quot;: &quot;Steve&quot;, &quot;age&quot;: 32, &quot;budget&quot;: 32000 },\n",
    "# { &quot;name&quot;: &quot;Martin&quot;, &quot;age&quot;: 16, &quot;budget&quot;: 1600 }\n",
    "# ]) ➞ 62600"
   ]
  },
  {
   "cell_type": "code",
   "execution_count": 22,
   "id": "4186f4b8-ac53-4c0e-9b88-152237a3f87c",
   "metadata": {},
   "outputs": [],
   "source": [
    "def get_budget(ld):\n",
    "    s =0\n",
    "    for i in ld:\n",
    "        for j in i:\n",
    "            if j == 'budget':\n",
    "                s = s+ i[j]\n",
    "    return s"
   ]
  },
  {
   "cell_type": "markdown",
   "id": "67b8a51c-6dfd-4887-858d-780c0b1b8468",
   "metadata": {},
   "source": [
    "get_budgets([\n",
    "{ &quot;name&quot;: &quot;John&quot;, &quot;age&quot;: 21, &quot;budget&quot;: 23000 },\n",
    "{ &quot;name&quot;: &quot;Steve&quot;, &quot;age&quot;: 32, &quot;budget&quot;: 40000 },\n",
    "{ &quot;name&quot;: &quot;Martin&quot;, &quot;age&quot;: 16, &quot;budget&quot;: 2700 }\n",
    "])"
   ]
  },
  {
   "cell_type": "code",
   "execution_count": 23,
   "id": "9cd34d44-c304-4652-8df4-a51b36dcf2d3",
   "metadata": {},
   "outputs": [
    {
     "data": {
      "text/plain": [
       "65700"
      ]
     },
     "execution_count": 23,
     "metadata": {},
     "output_type": "execute_result"
    }
   ],
   "source": [
    "get_budget([ { \"name\": \"John\", \"age\": 21, \"budget\": 23000 }, { \"name\": \"Steve\", \"age\": 32, \"budget\": 40000 }, { \"name\": \"Martin\", \"age\": 16, \"budget\": 2700 }])\n"
   ]
  },
  {
   "cell_type": "code",
   "execution_count": 3,
   "id": "e54a9500-83ed-4c21-a5c3-965ee069aed8",
   "metadata": {},
   "outputs": [],
   "source": [
    "# Question3\n",
    "# Create a function that takes a string and returns a string with its letters in alphabetical order.\n",
    "# Examples\n",
    "# alphabet_soup(&quot;hello&quot;) ➞ &quot;ehllo&quot;\n",
    "# alphabet_soup(&quot;edabit&quot;) ➞ &quot;abdeit&quot;\n",
    "# alphabet_soup(&quot;hacker&quot;) ➞ &quot;acehkr&quot;\n",
    "# alphabet_soup(&quot;geek&quot;) ➞ &quot;eegk&quot;\n",
    "# alphabet_soup(&quot;javascript&quot;) ➞ &quot;aacijprstv&quot;"
   ]
  },
  {
   "cell_type": "code",
   "execution_count": 26,
   "id": "c2627b65-d7c2-4347-acb5-5b4c5db94b12",
   "metadata": {},
   "outputs": [],
   "source": [
    "def alphabet_soup(s):\n",
    "    s = sorted(s)\n",
    "    ans = \"\".join(s)\n",
    "    return ans"
   ]
  },
  {
   "cell_type": "code",
   "execution_count": 27,
   "id": "7619834a-b17f-44c5-8c79-b8d0342bc36f",
   "metadata": {},
   "outputs": [
    {
     "data": {
      "text/plain": [
       "'ehllo'"
      ]
     },
     "execution_count": 27,
     "metadata": {},
     "output_type": "execute_result"
    }
   ],
   "source": [
    "alphabet_soup('hello')"
   ]
  },
  {
   "cell_type": "code",
   "execution_count": 5,
   "id": "1e59d824-1f32-455b-9a1e-b579574c8e1a",
   "metadata": {},
   "outputs": [],
   "source": [
    "# Question4\n",
    "# Suppose that you invest $10,000 for 10 years at an interest rate of 6% compounded monthly.\n",
    "# What will be the value of your investment at the end of the 10 year period?\n",
    "# Create a function that accepts the principal p, the term in years t, the interest rate r, and the\n",
    "# number of compounding periods per year n. The function returns the value at the end of term\n",
    "# rounded to the nearest cent.\n",
    "# For the example above:\n",
    "# compound_interest(10000, 10, 0.06, 12) ➞ 18193.97\n",
    "# Note that the interest rate is given as a decimal and n=12 because with monthly compounding\n",
    "# there are 12 periods per year. Compounding can also be done annually, quarterly, weekly, or\n",
    "# daily.\n",
    "# Examples\n",
    "# compound_interest(100, 1, 0.05, 1) ➞ 105.0\n",
    "# compound_interest(3500, 15, 0.1, 4) ➞ 15399.26\n",
    "# compound_interest(100000, 20, 0.15, 365) ➞ 2007316.26"
   ]
  },
  {
   "cell_type": "code",
   "execution_count": 38,
   "id": "05e9ef39-a3e0-4b3e-8bc7-800ae64ec1bd",
   "metadata": {},
   "outputs": [],
   "source": [
    "def compound_interest(p,t,r,n):\n",
    "    A = p* (pow((1+(r/n)),n*t))\n",
    "    return round(A,2)\n"
   ]
  },
  {
   "cell_type": "code",
   "execution_count": 39,
   "id": "703b0054-fed7-4406-b8ef-3998158071b6",
   "metadata": {},
   "outputs": [
    {
     "data": {
      "text/plain": [
       "105.0"
      ]
     },
     "execution_count": 39,
     "metadata": {},
     "output_type": "execute_result"
    }
   ],
   "source": [
    "compound_interest(100, 1, 0.05, 1)"
   ]
  },
  {
   "cell_type": "code",
   "execution_count": 6,
   "id": "001a10bf-ed8d-450c-817a-9b1819de4868",
   "metadata": {},
   "outputs": [],
   "source": [
    "# Question5\n",
    "# Write a function that takes a list of elements and returns only the integers.\n",
    "# Examples\n",
    "# return_only_integer([9, 2, &quot;space&quot;, &quot;car&quot;, &quot;lion&quot;, 16]) ➞ [9, 2, 16]\n",
    "# return_only_integer([&quot;hello&quot;, 81, &quot;basketball&quot;, 123, &quot;fox&quot;]) ➞ [81, 123]\n",
    "# return_only_integer([10, &quot;121&quot;, 56, 20, &quot;car&quot;, 3, &quot;lion&quot;]) ➞ [10, 56, 20,\n",
    "# 3]\n",
    "# return_only_integer([&quot;String&quot;, True, 3.3, 1]) ➞ [1]"
   ]
  },
  {
   "cell_type": "code",
   "execution_count": 40,
   "id": "b1f31f0b-02f8-4d8b-aeb8-2d41e6d0bcd1",
   "metadata": {},
   "outputs": [],
   "source": [
    "def return_only_integer(s):\n",
    "    l_new=[]\n",
    "    for i in range(len(s)):\n",
    "        if type(s[i])==int:\n",
    "            l_new.append(s[i])\n",
    "    return l_new"
   ]
  },
  {
   "cell_type": "markdown",
   "id": "271c9b81-95d0-47ea-80a6-d6c33ef3ed82",
   "metadata": {},
   "source": [
    "return_only_integer([10, &quot;121&quot;, 56, 20, &quot;car&quot;, 3, &quot;lion&quot;]) ➞ [10, 56, 20,\n",
    "3]"
   ]
  },
  {
   "cell_type": "code",
   "execution_count": 41,
   "id": "22f44b61-e9ae-4ac2-944a-f201be95f5d2",
   "metadata": {},
   "outputs": [
    {
     "data": {
      "text/plain": [
       "[10, 56, 20, 3]"
      ]
     },
     "execution_count": 41,
     "metadata": {},
     "output_type": "execute_result"
    }
   ],
   "source": [
    "return_only_integer([10, \"121\", 56, 20, \"car\", 3, \"lion\"])"
   ]
  },
  {
   "cell_type": "code",
   "execution_count": null,
   "id": "a924ddfa-8a7b-4fd7-a704-24ea5e1f82ea",
   "metadata": {},
   "outputs": [],
   "source": []
  }
 ],
 "metadata": {
  "kernelspec": {
   "display_name": "Python 3 (ipykernel)",
   "language": "python",
   "name": "python3"
  },
  "language_info": {
   "codemirror_mode": {
    "name": "ipython",
    "version": 3
   },
   "file_extension": ".py",
   "mimetype": "text/x-python",
   "name": "python",
   "nbconvert_exporter": "python",
   "pygments_lexer": "ipython3",
   "version": "3.10.0"
  }
 },
 "nbformat": 4,
 "nbformat_minor": 5
}
