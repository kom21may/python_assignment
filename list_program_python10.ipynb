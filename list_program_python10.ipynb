{
 "cells": [
  {
   "cell_type": "code",
   "execution_count": 9,
   "id": "5bfb247b",
   "metadata": {},
   "outputs": [
    {
     "name": "stdout",
     "output_type": "stream",
     "text": [
      "15\n"
     ]
    }
   ],
   "source": [
    "#Write a Python program to find sum of elements in list?\n",
    "l=[1,2,3,4,5]\n",
    "sum1=0\n",
    "for i in range(len(l)):\n",
    "    sum1=sum1+l[i]\n",
    "print(sum1)"
   ]
  },
  {
   "cell_type": "code",
   "execution_count": 10,
   "id": "4984190a",
   "metadata": {},
   "outputs": [
    {
     "name": "stdout",
     "output_type": "stream",
     "text": [
      "15\n"
     ]
    }
   ],
   "source": [
    "sum2=sum(l)\n",
    "print(sum2)"
   ]
  },
  {
   "cell_type": "code",
   "execution_count": 2,
   "id": "806717c2",
   "metadata": {},
   "outputs": [
    {
     "name": "stdout",
     "output_type": "stream",
     "text": [
      "120\n"
     ]
    }
   ],
   "source": [
    "#Write a Python program to Multiply all numbers in the list?\n",
    "l=[1,2,3,4,5]\n",
    "sum1=1\n",
    "for i in range(len(l)):\n",
    "    sum1=sum1*l[i]\n",
    "print(sum1)"
   ]
  },
  {
   "cell_type": "code",
   "execution_count": 13,
   "id": "7f22e170",
   "metadata": {},
   "outputs": [
    {
     "name": "stdout",
     "output_type": "stream",
     "text": [
      "1\n"
     ]
    }
   ],
   "source": [
    "#Write a Python program to find smallest number in a list?\n",
    "l=[1,2,3,4,5]\n",
    "min2=l[0]\n",
    "for i in range(len(l)):\n",
    "    if l[i]<min2:\n",
    "        min2=l[i]\n",
    "print(min2)"
   ]
  },
  {
   "cell_type": "code",
   "execution_count": 2,
   "id": "e53049e9",
   "metadata": {},
   "outputs": [
    {
     "name": "stdout",
     "output_type": "stream",
     "text": [
      "5\n"
     ]
    }
   ],
   "source": [
    "#Write a Python program to find largest number in a list?\n",
    "l=[1,2,3,4,5]\n",
    "max1=l[0]\n",
    "for i in range(len(l)):\n",
    "    if l[i]>max1:\n",
    "        max1=l[i]\n",
    "print(max1)"
   ]
  },
  {
   "cell_type": "code",
   "execution_count": 5,
   "id": "b4f58bd7",
   "metadata": {},
   "outputs": [
    {
     "data": {
      "text/plain": [
       "7"
      ]
     },
     "execution_count": 5,
     "metadata": {},
     "output_type": "execute_result"
    }
   ],
   "source": [
    "#Write a Python program to find second largest number in a list?\n",
    "l=[1,7,3,9,5]\n",
    "l.sort()#ascending\n",
    "l[-2]"
   ]
  },
  {
   "cell_type": "code",
   "execution_count": 1,
   "id": "14256e83",
   "metadata": {},
   "outputs": [
    {
     "name": "stdout",
     "output_type": "stream",
     "text": [
      "8\n"
     ]
    }
   ],
   "source": [
    "#or \n",
    "a=[2,3,9,1,3,8]\n",
    "max1=max(a[0],a[1])\n",
    "second_min=min(a[0],a[1])\n",
    "for i in range(2,len(a)):\n",
    "    if(a[i]>max1):\n",
    "        max1=a[i]\n",
    "        second_min=max1\n",
    "    elif (a[i]>second_min and max1!=a[i]):\n",
    "        second_min=a[i]\n",
    "    elif (max1==second_min and a[i]!=second_min):\n",
    "        second_min=a[i]\n",
    "print(second_min)"
   ]
  },
  {
   "cell_type": "code",
   "execution_count": 12,
   "id": "c79bf6b5",
   "metadata": {},
   "outputs": [],
   "source": [
    "#Write a Python program to find N largest elements from a list?\n",
    "\n",
    "l=[2,3,5,7,9]\n",
    "n=2\n",
    "def n_large(l,n):\n",
    "    new_li=[]\n",
    "    for i in range(0,n):\n",
    "        max3=0\n",
    "        for j in range(len(l)):\n",
    "            if l[j]>max3:\n",
    "                max3=l[j]\n",
    "        l.remove(max3)\n",
    "        new_li.append(max3)\n",
    "        \n",
    "    return new_li\n",
    "\n"
   ]
  },
  {
   "cell_type": "code",
   "execution_count": 13,
   "id": "17ca83e4",
   "metadata": {},
   "outputs": [
    {
     "data": {
      "text/plain": [
       "[9, 7]"
      ]
     },
     "execution_count": 13,
     "metadata": {},
     "output_type": "execute_result"
    }
   ],
   "source": [
    "n_large(l,n)"
   ]
  },
  {
   "cell_type": "code",
   "execution_count": 15,
   "id": "d4f29076",
   "metadata": {},
   "outputs": [
    {
     "name": "stdout",
     "output_type": "stream",
     "text": [
      "2 8 88 "
     ]
    }
   ],
   "source": [
    "#Write a Python program to print even numbers in a list?\n",
    "l=[2,3,5,7,8,65,88,9]\n",
    "for i in l:\n",
    "    if i%2==0:\n",
    "        print(i,end=' ')"
   ]
  },
  {
   "cell_type": "code",
   "execution_count": 16,
   "id": "1e63551d",
   "metadata": {},
   "outputs": [
    {
     "name": "stdout",
     "output_type": "stream",
     "text": [
      "3 5 7 65 9 "
     ]
    }
   ],
   "source": [
    "#Write a Python program to print odd numbers in a List?\n",
    "l=[2,3,5,7,8,65,88,9]\n",
    "for i in l:\n",
    "    if i%2!=0:\n",
    "        print(i,end=' ')"
   ]
  },
  {
   "cell_type": "code",
   "execution_count": 17,
   "id": "198da5e8",
   "metadata": {},
   "outputs": [
    {
     "data": {
      "text/plain": [
       "[2, 3, 5, 7, 8, 65, 88, 9]"
      ]
     },
     "execution_count": 17,
     "metadata": {},
     "output_type": "execute_result"
    }
   ],
   "source": [
    "#Write a Python program to Remove empty List from List?\n",
    "\n",
    "el=[2,3,5,7,[],8,65,[],88,9]\n",
    "lie=[i for i in el if i!=[]]\n",
    "lie"
   ]
  },
  {
   "cell_type": "code",
   "execution_count": 18,
   "id": "823541d3",
   "metadata": {},
   "outputs": [
    {
     "data": {
      "text/plain": [
       "[2, 3, 5, 7, 8, 65, 88, 9]"
      ]
     },
     "execution_count": 18,
     "metadata": {},
     "output_type": "execute_result"
    }
   ],
   "source": [
    "#Write a Python program to Cloning or Copying a list?\n",
    "import copy\n",
    "l=[2,3,5,7,8,65,88,9]#shallow copy\n",
    "k=copy.copy(l)\n",
    "k\n"
   ]
  },
  {
   "cell_type": "code",
   "execution_count": 19,
   "id": "72fb6b3c",
   "metadata": {},
   "outputs": [
    {
     "data": {
      "text/plain": [
       "[2, 3, 5, 7, 8, 65, 88, 9]"
      ]
     },
     "execution_count": 19,
     "metadata": {},
     "output_type": "execute_result"
    }
   ],
   "source": [
    "m=copy.deepcopy(l)#deepcopy\n",
    "m"
   ]
  },
  {
   "cell_type": "code",
   "execution_count": 25,
   "id": "4df77e04",
   "metadata": {},
   "outputs": [
    {
     "data": {
      "text/plain": [
       "Counter({2: 1, 3: 1, 5: 1, 7: 1, 8: 1, 65: 1, 88: 1, 9: 1})"
      ]
     },
     "execution_count": 25,
     "metadata": {},
     "output_type": "execute_result"
    }
   ],
   "source": [
    "#Write a Python program to Count occurrences of an element in a list?\n",
    "from collections import Counter\n",
    "x=Counter(l)\n",
    "x"
   ]
  },
  {
   "cell_type": "code",
   "execution_count": null,
   "id": "3708adf5",
   "metadata": {},
   "outputs": [],
   "source": []
  }
 ],
 "metadata": {
  "kernelspec": {
   "display_name": "Python 3 (ipykernel)",
   "language": "python",
   "name": "python3"
  },
  "language_info": {
   "codemirror_mode": {
    "name": "ipython",
    "version": 3
   },
   "file_extension": ".py",
   "mimetype": "text/x-python",
   "name": "python",
   "nbconvert_exporter": "python",
   "pygments_lexer": "ipython3",
   "version": "3.9.12"
  }
 },
 "nbformat": 4,
 "nbformat_minor": 5
}
