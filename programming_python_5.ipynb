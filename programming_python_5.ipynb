{
 "cells": [
  {
   "cell_type": "code",
   "execution_count": 3,
   "id": "c047e23c",
   "metadata": {},
   "outputs": [
    {
     "data": {
      "text/plain": [
       "12"
      ]
     },
     "execution_count": 3,
     "metadata": {},
     "output_type": "execute_result"
    }
   ],
   "source": [
    "#Write a Python Program to Find LCM?\n",
    "\n",
    "def lcm_compute(a,b):\n",
    "    if a>b:\n",
    "        greater=a\n",
    "    else:\n",
    "        greater=b\n",
    "    while(True):\n",
    "        if (greater%a==0) and (greater%b==0):\n",
    "            lcm=greater\n",
    "            break\n",
    "        greater+=1\n",
    "    return lcm\n",
    "lcm_compute(3,4)"
   ]
  },
  {
   "cell_type": "code",
   "execution_count": 17,
   "id": "77ef1ec7",
   "metadata": {},
   "outputs": [
    {
     "data": {
      "text/plain": [
       "6"
      ]
     },
     "execution_count": 17,
     "metadata": {},
     "output_type": "execute_result"
    }
   ],
   "source": [
    "#Write a Python Program to Find HCF?\n",
    "\n",
    "def hcf_compute(a,b):\n",
    "    if a>b:\n",
    "        smaller=b\n",
    "    else:\n",
    "        smaller=a\n",
    "    for i in range(1,smaller+1):\n",
    "        \n",
    "        if ((a % i == 0) and (b % i == 0)):\n",
    "            hcf=i\n",
    "    return hcf\n",
    "hcf_compute(54,24)\n"
   ]
  },
  {
   "cell_type": "code",
   "execution_count": 18,
   "id": "ea35f08f",
   "metadata": {},
   "outputs": [
    {
     "name": "stdout",
     "output_type": "stream",
     "text": [
      "60\n",
      "0b111100\n",
      "0o74\n",
      "0x3c\n"
     ]
    }
   ],
   "source": [
    "#Write a Python Program to Convert Decimal to Binary, Octal and Hexadecimal?\n",
    "\n",
    "dec=int(input())\n",
    "print(bin(dec))\n",
    "print(oct(dec))\n",
    "print(hex(dec))"
   ]
  },
  {
   "cell_type": "code",
   "execution_count": 20,
   "id": "dea203e4",
   "metadata": {},
   "outputs": [
    {
     "name": "stdout",
     "output_type": "stream",
     "text": [
      "k\n",
      "107\n"
     ]
    }
   ],
   "source": [
    "#Write a Python Program To Find ASCII value of a character?\n",
    "c=input()[0]\n",
    "print(ord(c))"
   ]
  },
  {
   "cell_type": "code",
   "execution_count": null,
   "id": "a9197323",
   "metadata": {},
   "outputs": [
    {
     "name": "stdout",
     "output_type": "stream",
     "text": [
      "9\n",
      "6\n",
      "1\n",
      "sum of two numer is 15\n",
      "1\n",
      "3\n",
      "multiply of two numer is 54\n",
      "1\n",
      "4\n",
      "division of two numer is 1\n",
      "2\n",
      "2\n",
      "difference of two numer is 3\n"
     ]
    }
   ],
   "source": [
    "#Write a Python Program to Make a Simple Calculator with 4 basic mathematical operations?\n",
    "a=int(input())\n",
    "b=int(input())\n",
    "def add(a,b):\n",
    "    return a+b\n",
    "def subtract(a,b):\n",
    "    return a-b\n",
    "def multiply(a,b):\n",
    "    return a*b\n",
    "def division(a,b):\n",
    "    return a//b\n",
    "while(True):\n",
    "    choice=input()\n",
    "    if choice in ('1','2','3','4'):\n",
    "        if choice=='1':\n",
    "            print('sum of two numer is',add(a,b))\n",
    "        elif choice=='2':\n",
    "            print('difference of two numer is',subtract(a,b))\n",
    "        elif choice=='3':\n",
    "            print('multiply of two numer is',multiply(a,b))\n",
    "        elif choice=='4':\n",
    "            print('division of two numer is',division(a,b))\n",
    "        next_input=int(input())\n",
    "        if next_input==0:\n",
    "            print('no next calculation')\n",
    "            break\n",
    "    else:\n",
    "        print('Invalid choice')\n",
    "        \n",
    "\n",
    "        "
   ]
  },
  {
   "cell_type": "code",
   "execution_count": null,
   "id": "8017c87a",
   "metadata": {},
   "outputs": [],
   "source": []
  }
 ],
 "metadata": {
  "kernelspec": {
   "display_name": "Python 3 (ipykernel)",
   "language": "python",
   "name": "python3"
  },
  "language_info": {
   "codemirror_mode": {
    "name": "ipython",
    "version": 3
   },
   "file_extension": ".py",
   "mimetype": "text/x-python",
   "name": "python",
   "nbconvert_exporter": "python",
   "pygments_lexer": "ipython3",
   "version": "3.9.12"
  }
 },
 "nbformat": 4,
 "nbformat_minor": 5
}
